{
 "cells": [
  {
   "cell_type": "code",
   "execution_count": 1,
   "metadata": {
    "id": "NZZbGvBqNrht"
   },
   "outputs": [],
   "source": [
    "# import random as rd\n",
    "# rd.seed(0)"
   ]
  },
  {
   "cell_type": "code",
   "execution_count": 2,
   "metadata": {
    "id": "O3kdxq7USMsU"
   },
   "outputs": [],
   "source": [
    "#import libraries\n",
    "import pickle\n",
    "import pandas as pd\n",
    "import numpy as np\n",
    "import matplotlib.pyplot as plt\n",
    "\n",
    "from sklearn.model_selection import train_test_split\n",
    "from sklearn.decomposition import PCA \n",
    "from sklearn.preprocessing import MinMaxScaler, StandardScaler, RobustScaler\n",
    "from sklearn.model_selection import GridSearchCV\n",
    "from sklearn.pipeline import make_pipeline\n",
    "from sklearn.multioutput import MultiOutputRegressor\n",
    "from sklearn import linear_model\n",
    "from sklearn.linear_model import Ridge\n",
    "from sklearn.ensemble import RandomForestRegressor\n",
    "from sklearn.ensemble import GradientBoostingRegressor\n",
    "from sklearn.svm import SVR\n",
    "from sklearn.linear_model import ElasticNet\n",
    "import xgboost as xg\n",
    "import warnings\n",
    "warnings.filterwarnings('ignore')"
   ]
  },
  {
   "cell_type": "code",
   "execution_count": 3,
   "metadata": {},
   "outputs": [],
   "source": [
    "data = pd.read_csv('data2.csv')"
   ]
  },
  {
   "cell_type": "code",
   "execution_count": 4,
   "metadata": {},
   "outputs": [],
   "source": [
    "data['dist'] = np.linalg.norm(data.loc[:, [\"x378\",\"y378\"]].values, axis=1)\n",
    "features = data.drop([\"file_name\",\"pitch\",\"yaw\",\"roll\",\"h\",\"v\",\"t\",\"scale\",\"dist\"], axis=1)\n",
    "labels = data[[\"pitch\",\"yaw\",\"roll\"]]\n",
    "features.loc[:,:]=features.loc[:,:].div(data[\"dist\"],axis=0)"
   ]
  },
  {
   "cell_type": "code",
   "execution_count": 5,
   "metadata": {
    "id": "jgsQuv6OSUeY"
   },
   "outputs": [],
   "source": [
    "scaler= MinMaxScaler()\n",
    "pca=PCA(n_components=0.98)  "
   ]
  },
  {
   "cell_type": "code",
   "execution_count": 20,
   "metadata": {
    "id": "Q_2CpmglSifo"
   },
   "outputs": [],
   "source": [
    "# remark: we fix random_state the end, to make sure we always get the same results\n",
    "features_train, features_validation, labels_train, labels_validation = train_test_split(\n",
    "    features, labels, test_size=0.2, random_state=3)"
   ]
  },
  {
   "cell_type": "code",
   "execution_count": 21,
   "metadata": {
    "id": "p77fv1dEjoN2"
   },
   "outputs": [
    {
     "name": "stdout",
     "output_type": "stream",
     "text": [
      "RandomForestRegressor yaw train: 0.962317437971364\n",
      "RandomForestRegressor yaw test: 0.88393683312462\n"
     ]
    }
   ],
   "source": [
    "rf_yaw =RandomForestRegressor(random_state=42)\n",
    "PIPE_LINE_yaw =make_pipeline(scaler,pca,rf_yaw).fit(features_train, labels_train[\"yaw\"])\n",
    "print(\"RandomForestRegressor yaw train:\",PIPE_LINE_yaw.score(features_train, labels_train[\"yaw\"]))\n",
    "print(\"RandomForestRegressor yaw test:\", PIPE_LINE_yaw.score(features_validation, labels_validation[\"yaw\"]))"
   ]
  },
  {
   "cell_type": "code",
   "execution_count": 22,
   "metadata": {},
   "outputs": [
    {
     "name": "stdout",
     "output_type": "stream",
     "text": [
      "RandomForestRegressor pitch train: 0.7689562575711393\n",
      "RandomForestRegressor pitch test: 0.6324876311150796\n"
     ]
    }
   ],
   "source": [
    "rf_pitch =RandomForestRegressor(random_state=42)\n",
    "PIPE_LINE_pitch =make_pipeline(scaler,pca,rf_pitch).fit(features_train, labels_train[\"pitch\"])\n",
    "print(\"RandomForestRegressor pitch train:\",PIPE_LINE_pitch.score(features_train, labels_train[\"pitch\"]))\n",
    "print(\"RandomForestRegressor pitch test:\", PIPE_LINE_pitch.score(features_validation, labels_validation[\"pitch\"]))"
   ]
  },
  {
   "cell_type": "code",
   "execution_count": 23,
   "metadata": {},
   "outputs": [
    {
     "name": "stdout",
     "output_type": "stream",
     "text": [
      "RandomForestRegressor yaw train: 0.8826002588173055\n",
      "RandomForestRegressor yaw test: 0.792197557115155\n"
     ]
    }
   ],
   "source": [
    "rf_roll =RandomForestRegressor(random_state=42)\n",
    "PIPE_LINE_roll =make_pipeline(scaler,pca,rf_roll).fit(features_train, labels_train[\"roll\"])\n",
    "print(\"RandomForestRegressor yaw train:\",PIPE_LINE_roll.score(features_train, labels_train[\"roll\"]))\n",
    "print(\"RandomForestRegressor yaw test:\", PIPE_LINE_roll.score(features_validation, labels_validation[\"roll\"]))"
   ]
  },
  {
   "cell_type": "code",
   "execution_count": 25,
   "metadata": {},
   "outputs": [],
   "source": [
    "filename = 'yaw.sav'\n",
    "pickle.dump(PIPE_LINE_yaw, open(filename, 'wb'))\n",
    "filename = 'pitch.sav'\n",
    "pickle.dump(PIPE_LINE_pitch, open(filename, 'wb'))\n",
    "filename = 'roll.sav'\n",
    "pickle.dump(PIPE_LINE_roll, open(filename, 'wb'))"
   ]
  },
  {
   "cell_type": "code",
   "execution_count": null,
   "metadata": {},
   "outputs": [],
   "source": []
  }
 ],
 "metadata": {
  "colab": {
   "name": "modeling.ipynb",
   "provenance": []
  },
  "kernelspec": {
   "display_name": "Python 3 (ipykernel)",
   "language": "python",
   "name": "python3"
  },
  "language_info": {
   "codemirror_mode": {
    "name": "ipython",
    "version": 3
   },
   "file_extension": ".py",
   "mimetype": "text/x-python",
   "name": "python",
   "nbconvert_exporter": "python",
   "pygments_lexer": "ipython3",
   "version": "3.9.7"
  }
 },
 "nbformat": 4,
 "nbformat_minor": 1
}
