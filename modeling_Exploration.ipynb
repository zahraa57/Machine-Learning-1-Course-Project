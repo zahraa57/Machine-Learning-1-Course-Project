{
  "nbformat": 4,
  "nbformat_minor": 0,
  "metadata": {
    "colab": {
      "name": "modeling Exploration.ipynb",
      "provenance": [],
      "mount_file_id": "1B2k5pmK_xkQ3TpDGJYU5BS3q4smbgOm5",
      "authorship_tag": "ABX9TyPOj4kbGGRb6rTLGaGO2u24",
      "include_colab_link": true
    },
    "kernelspec": {
      "name": "python3",
      "display_name": "Python 3"
    },
    "language_info": {
      "name": "python"
    },
    "accelerator": "GPU",
    "gpuClass": "standard"
  },
  "cells": [
    {
      "cell_type": "markdown",
      "metadata": {
        "id": "view-in-github",
        "colab_type": "text"
      },
      "source": [
        "<a href=\"https://colab.research.google.com/github/zahraa57/Machine-Learning-1-Course-Project/blob/main/modeling_Exploration.ipynb\" target=\"_parent\"><img src=\"https://colab.research.google.com/assets/colab-badge.svg\" alt=\"Open In Colab\"/></a>"
      ]
    },
    {
      "cell_type": "code",
      "execution_count": 1,
      "metadata": {
        "id": "EDxZ0smU0wth"
      },
      "outputs": [],
      "source": [
        "import random as rd\n",
        "rd.seed(0)"
      ]
    },
    {
      "cell_type": "code",
      "source": [
        "import pandas as pd\n",
        "import numpy as np\n",
        "import matplotlib.pyplot as plt\n",
        "\n",
        "from sklearn.model_selection import train_test_split\n",
        "from sklearn.decomposition import PCA \n",
        "from sklearn.preprocessing import MinMaxScaler, StandardScaler, RobustScaler\n",
        "from sklearn.model_selection import GridSearchCV\n",
        "from sklearn.pipeline import make_pipeline\n",
        "from sklearn.multioutput import MultiOutputRegressor\n",
        "from sklearn import linear_model\n",
        "from sklearn.linear_model import Ridge\n",
        "from sklearn.ensemble import RandomForestRegressor\n",
        "from sklearn.ensemble import GradientBoostingRegressor\n",
        "from sklearn.svm import SVR\n",
        "\n",
        "\n"
      ],
      "metadata": {
        "id": "674n0oo_eAdQ"
      },
      "execution_count": 2,
      "outputs": []
    },
    {
      "cell_type": "markdown",
      "source": [
        "# Preprocessing exploration "
      ],
      "metadata": {
        "id": "NWGnUSANNxu4"
      }
    },
    {
      "cell_type": "code",
      "source": [
        "data = pd.read_csv('/content/drive/MyDrive/data/data.csv')\n",
        "data.head(5)"
      ],
      "metadata": {
        "colab": {
          "base_uri": "https://localhost:8080/",
          "height": 299
        },
        "id": "RviBPfy8eFN6",
        "outputId": "94978978-f15d-472d-f1a0-ed5920ccd45b"
      },
      "execution_count": 3,
      "outputs": [
        {
          "output_type": "execute_result",
          "data": {
            "text/plain": [
              "       image_name        x1        x2        x3        x4        x5        x6  \\\n",
              "0  image03233.jpg  0.539054  0.566098  0.538103  0.534302  0.567888  0.559214   \n",
              "1  image03255.jpg  0.572712  0.561157  0.543249  0.500813  0.553606  0.532301   \n",
              "2  image03236.jpg  0.503842  0.488899  0.498043  0.468165  0.485042  0.482925   \n",
              "3  image03222.jpg  0.536512  0.554113  0.538082  0.528365  0.555925  0.551769   \n",
              "4  image03266.jpg  0.531321  0.521944  0.523811  0.491416  0.518149  0.512927   \n",
              "\n",
              "         x7        x8        x9  ...      y466      y467      y468     pitch  \\\n",
              "0  0.529194  0.380115  0.520729  ...  0.500340  0.485196  0.477088 -0.474087   \n",
              "1  0.469587  0.337372  0.435622  ...  0.460982  0.428940  0.423490 -0.331991   \n",
              "2  0.480913  0.358855  0.474047  ...  0.491338  0.447866  0.437037  0.036318   \n",
              "3  0.535769  0.370772  0.532781  ...  0.500151  0.475350  0.468136 -0.116700   \n",
              "4  0.499565  0.343950  0.489164  ...  0.495773  0.460554  0.450567  0.093373   \n",
              "\n",
              "        yaw      roll           h           v           t     scale  \n",
              "0 -0.040907  0.019801  218.157730  280.057434 -113.012268  0.001805  \n",
              "1 -0.280685 -0.057327  183.341934  244.958817  -92.797005  0.001587  \n",
              "2 -0.447323 -0.115917  178.802704  194.897919  -97.699074  0.001242  \n",
              "3 -0.233745  0.095809  197.981903  211.594971 -102.926636  0.001377  \n",
              "4  0.062462 -0.125822  235.452881  180.535965 -118.137459  0.001704  \n",
              "\n",
              "[5 rows x 944 columns]"
            ],
            "text/html": [
              "\n",
              "  <div id=\"df-ed7ceae1-e82f-4313-975c-72856faa4458\">\n",
              "    <div class=\"colab-df-container\">\n",
              "      <div>\n",
              "<style scoped>\n",
              "    .dataframe tbody tr th:only-of-type {\n",
              "        vertical-align: middle;\n",
              "    }\n",
              "\n",
              "    .dataframe tbody tr th {\n",
              "        vertical-align: top;\n",
              "    }\n",
              "\n",
              "    .dataframe thead th {\n",
              "        text-align: right;\n",
              "    }\n",
              "</style>\n",
              "<table border=\"1\" class=\"dataframe\">\n",
              "  <thead>\n",
              "    <tr style=\"text-align: right;\">\n",
              "      <th></th>\n",
              "      <th>image_name</th>\n",
              "      <th>x1</th>\n",
              "      <th>x2</th>\n",
              "      <th>x3</th>\n",
              "      <th>x4</th>\n",
              "      <th>x5</th>\n",
              "      <th>x6</th>\n",
              "      <th>x7</th>\n",
              "      <th>x8</th>\n",
              "      <th>x9</th>\n",
              "      <th>...</th>\n",
              "      <th>y466</th>\n",
              "      <th>y467</th>\n",
              "      <th>y468</th>\n",
              "      <th>pitch</th>\n",
              "      <th>yaw</th>\n",
              "      <th>roll</th>\n",
              "      <th>h</th>\n",
              "      <th>v</th>\n",
              "      <th>t</th>\n",
              "      <th>scale</th>\n",
              "    </tr>\n",
              "  </thead>\n",
              "  <tbody>\n",
              "    <tr>\n",
              "      <th>0</th>\n",
              "      <td>image03233.jpg</td>\n",
              "      <td>0.539054</td>\n",
              "      <td>0.566098</td>\n",
              "      <td>0.538103</td>\n",
              "      <td>0.534302</td>\n",
              "      <td>0.567888</td>\n",
              "      <td>0.559214</td>\n",
              "      <td>0.529194</td>\n",
              "      <td>0.380115</td>\n",
              "      <td>0.520729</td>\n",
              "      <td>...</td>\n",
              "      <td>0.500340</td>\n",
              "      <td>0.485196</td>\n",
              "      <td>0.477088</td>\n",
              "      <td>-0.474087</td>\n",
              "      <td>-0.040907</td>\n",
              "      <td>0.019801</td>\n",
              "      <td>218.157730</td>\n",
              "      <td>280.057434</td>\n",
              "      <td>-113.012268</td>\n",
              "      <td>0.001805</td>\n",
              "    </tr>\n",
              "    <tr>\n",
              "      <th>1</th>\n",
              "      <td>image03255.jpg</td>\n",
              "      <td>0.572712</td>\n",
              "      <td>0.561157</td>\n",
              "      <td>0.543249</td>\n",
              "      <td>0.500813</td>\n",
              "      <td>0.553606</td>\n",
              "      <td>0.532301</td>\n",
              "      <td>0.469587</td>\n",
              "      <td>0.337372</td>\n",
              "      <td>0.435622</td>\n",
              "      <td>...</td>\n",
              "      <td>0.460982</td>\n",
              "      <td>0.428940</td>\n",
              "      <td>0.423490</td>\n",
              "      <td>-0.331991</td>\n",
              "      <td>-0.280685</td>\n",
              "      <td>-0.057327</td>\n",
              "      <td>183.341934</td>\n",
              "      <td>244.958817</td>\n",
              "      <td>-92.797005</td>\n",
              "      <td>0.001587</td>\n",
              "    </tr>\n",
              "    <tr>\n",
              "      <th>2</th>\n",
              "      <td>image03236.jpg</td>\n",
              "      <td>0.503842</td>\n",
              "      <td>0.488899</td>\n",
              "      <td>0.498043</td>\n",
              "      <td>0.468165</td>\n",
              "      <td>0.485042</td>\n",
              "      <td>0.482925</td>\n",
              "      <td>0.480913</td>\n",
              "      <td>0.358855</td>\n",
              "      <td>0.474047</td>\n",
              "      <td>...</td>\n",
              "      <td>0.491338</td>\n",
              "      <td>0.447866</td>\n",
              "      <td>0.437037</td>\n",
              "      <td>0.036318</td>\n",
              "      <td>-0.447323</td>\n",
              "      <td>-0.115917</td>\n",
              "      <td>178.802704</td>\n",
              "      <td>194.897919</td>\n",
              "      <td>-97.699074</td>\n",
              "      <td>0.001242</td>\n",
              "    </tr>\n",
              "    <tr>\n",
              "      <th>3</th>\n",
              "      <td>image03222.jpg</td>\n",
              "      <td>0.536512</td>\n",
              "      <td>0.554113</td>\n",
              "      <td>0.538082</td>\n",
              "      <td>0.528365</td>\n",
              "      <td>0.555925</td>\n",
              "      <td>0.551769</td>\n",
              "      <td>0.535769</td>\n",
              "      <td>0.370772</td>\n",
              "      <td>0.532781</td>\n",
              "      <td>...</td>\n",
              "      <td>0.500151</td>\n",
              "      <td>0.475350</td>\n",
              "      <td>0.468136</td>\n",
              "      <td>-0.116700</td>\n",
              "      <td>-0.233745</td>\n",
              "      <td>0.095809</td>\n",
              "      <td>197.981903</td>\n",
              "      <td>211.594971</td>\n",
              "      <td>-102.926636</td>\n",
              "      <td>0.001377</td>\n",
              "    </tr>\n",
              "    <tr>\n",
              "      <th>4</th>\n",
              "      <td>image03266.jpg</td>\n",
              "      <td>0.531321</td>\n",
              "      <td>0.521944</td>\n",
              "      <td>0.523811</td>\n",
              "      <td>0.491416</td>\n",
              "      <td>0.518149</td>\n",
              "      <td>0.512927</td>\n",
              "      <td>0.499565</td>\n",
              "      <td>0.343950</td>\n",
              "      <td>0.489164</td>\n",
              "      <td>...</td>\n",
              "      <td>0.495773</td>\n",
              "      <td>0.460554</td>\n",
              "      <td>0.450567</td>\n",
              "      <td>0.093373</td>\n",
              "      <td>0.062462</td>\n",
              "      <td>-0.125822</td>\n",
              "      <td>235.452881</td>\n",
              "      <td>180.535965</td>\n",
              "      <td>-118.137459</td>\n",
              "      <td>0.001704</td>\n",
              "    </tr>\n",
              "  </tbody>\n",
              "</table>\n",
              "<p>5 rows × 944 columns</p>\n",
              "</div>\n",
              "      <button class=\"colab-df-convert\" onclick=\"convertToInteractive('df-ed7ceae1-e82f-4313-975c-72856faa4458')\"\n",
              "              title=\"Convert this dataframe to an interactive table.\"\n",
              "              style=\"display:none;\">\n",
              "        \n",
              "  <svg xmlns=\"http://www.w3.org/2000/svg\" height=\"24px\"viewBox=\"0 0 24 24\"\n",
              "       width=\"24px\">\n",
              "    <path d=\"M0 0h24v24H0V0z\" fill=\"none\"/>\n",
              "    <path d=\"M18.56 5.44l.94 2.06.94-2.06 2.06-.94-2.06-.94-.94-2.06-.94 2.06-2.06.94zm-11 1L8.5 8.5l.94-2.06 2.06-.94-2.06-.94L8.5 2.5l-.94 2.06-2.06.94zm10 10l.94 2.06.94-2.06 2.06-.94-2.06-.94-.94-2.06-.94 2.06-2.06.94z\"/><path d=\"M17.41 7.96l-1.37-1.37c-.4-.4-.92-.59-1.43-.59-.52 0-1.04.2-1.43.59L10.3 9.45l-7.72 7.72c-.78.78-.78 2.05 0 2.83L4 21.41c.39.39.9.59 1.41.59.51 0 1.02-.2 1.41-.59l7.78-7.78 2.81-2.81c.8-.78.8-2.07 0-2.86zM5.41 20L4 18.59l7.72-7.72 1.47 1.35L5.41 20z\"/>\n",
              "  </svg>\n",
              "      </button>\n",
              "      \n",
              "  <style>\n",
              "    .colab-df-container {\n",
              "      display:flex;\n",
              "      flex-wrap:wrap;\n",
              "      gap: 12px;\n",
              "    }\n",
              "\n",
              "    .colab-df-convert {\n",
              "      background-color: #E8F0FE;\n",
              "      border: none;\n",
              "      border-radius: 50%;\n",
              "      cursor: pointer;\n",
              "      display: none;\n",
              "      fill: #1967D2;\n",
              "      height: 32px;\n",
              "      padding: 0 0 0 0;\n",
              "      width: 32px;\n",
              "    }\n",
              "\n",
              "    .colab-df-convert:hover {\n",
              "      background-color: #E2EBFA;\n",
              "      box-shadow: 0px 1px 2px rgba(60, 64, 67, 0.3), 0px 1px 3px 1px rgba(60, 64, 67, 0.15);\n",
              "      fill: #174EA6;\n",
              "    }\n",
              "\n",
              "    [theme=dark] .colab-df-convert {\n",
              "      background-color: #3B4455;\n",
              "      fill: #D2E3FC;\n",
              "    }\n",
              "\n",
              "    [theme=dark] .colab-df-convert:hover {\n",
              "      background-color: #434B5C;\n",
              "      box-shadow: 0px 1px 3px 1px rgba(0, 0, 0, 0.15);\n",
              "      filter: drop-shadow(0px 1px 2px rgba(0, 0, 0, 0.3));\n",
              "      fill: #FFFFFF;\n",
              "    }\n",
              "  </style>\n",
              "\n",
              "      <script>\n",
              "        const buttonEl =\n",
              "          document.querySelector('#df-ed7ceae1-e82f-4313-975c-72856faa4458 button.colab-df-convert');\n",
              "        buttonEl.style.display =\n",
              "          google.colab.kernel.accessAllowed ? 'block' : 'none';\n",
              "\n",
              "        async function convertToInteractive(key) {\n",
              "          const element = document.querySelector('#df-ed7ceae1-e82f-4313-975c-72856faa4458');\n",
              "          const dataTable =\n",
              "            await google.colab.kernel.invokeFunction('convertToInteractive',\n",
              "                                                     [key], {});\n",
              "          if (!dataTable) return;\n",
              "\n",
              "          const docLinkHtml = 'Like what you see? Visit the ' +\n",
              "            '<a target=\"_blank\" href=https://colab.research.google.com/notebooks/data_table.ipynb>data table notebook</a>'\n",
              "            + ' to learn more about interactive tables.';\n",
              "          element.innerHTML = '';\n",
              "          dataTable['output_type'] = 'display_data';\n",
              "          await google.colab.output.renderOutput(dataTable, element);\n",
              "          const docLink = document.createElement('div');\n",
              "          docLink.innerHTML = docLinkHtml;\n",
              "          element.appendChild(docLink);\n",
              "        }\n",
              "      </script>\n",
              "    </div>\n",
              "  </div>\n",
              "  "
            ]
          },
          "metadata": {},
          "execution_count": 3
        }
      ]
    },
    {
      "cell_type": "code",
      "source": [
        "data.shape"
      ],
      "metadata": {
        "colab": {
          "base_uri": "https://localhost:8080/"
        },
        "id": "H0iOmYH8xwrl",
        "outputId": "e37f5312-fca2-47e1-ee3f-9aaad2ed55d9"
      },
      "execution_count": 4,
      "outputs": [
        {
          "output_type": "execute_result",
          "data": {
            "text/plain": [
              "(1575, 944)"
            ]
          },
          "metadata": {},
          "execution_count": 4
        }
      ]
    },
    {
      "cell_type": "code",
      "source": [
        "features = data.drop([\"image_name\",\"pitch\",\"yaw\",\"roll\",\"h\",\"v\",\"t\",\"scale\"], axis=1)\n",
        "labels = data[[\"pitch\",\"yaw\",\"roll\"]]\n",
        "labels=labels.round(decimals=2)"
      ],
      "metadata": {
        "id": "HZo0a7gcebeM"
      },
      "execution_count": 5,
      "outputs": []
    },
    {
      "cell_type": "code",
      "source": [
        "features.describe().T"
      ],
      "metadata": {
        "colab": {
          "base_uri": "https://localhost:8080/",
          "height": 423
        },
        "id": "7YRfSZuvAqWu",
        "outputId": "949cf05d-7a05-4791-a929-9c4b0473b501"
      },
      "execution_count": 6,
      "outputs": [
        {
          "output_type": "execute_result",
          "data": {
            "text/plain": [
              "       count      mean       std       min       25%       50%       75%  \\\n",
              "x1    1575.0  0.504852  0.034772  0.259859  0.485347  0.505489  0.524401   \n",
              "x2    1575.0  0.503546  0.046904  0.257272  0.473844  0.501813  0.532893   \n",
              "x3    1575.0  0.504134  0.032818  0.263137  0.484511  0.503545  0.523151   \n",
              "x4    1575.0  0.488201  0.039819  0.263422  0.461535  0.484968  0.512474   \n",
              "x5    1575.0  0.503227  0.048452  0.258436  0.472391  0.501603  0.533754   \n",
              "...      ...       ...       ...       ...       ...       ...       ...   \n",
              "y464  1575.0  0.494728  0.017385  0.420034  0.483992  0.494495  0.505059   \n",
              "y465  1575.0  0.500194  0.016312  0.426418  0.490668  0.500117  0.509826   \n",
              "y466  1575.0  0.504369  0.016058  0.430643  0.495660  0.504007  0.513965   \n",
              "y467  1575.0  0.482564  0.029018  0.393126  0.464498  0.482014  0.499401   \n",
              "y468  1575.0  0.473418  0.030611  0.376522  0.454698  0.472948  0.491039   \n",
              "\n",
              "           max  \n",
              "x1    0.635382  \n",
              "x2    0.657480  \n",
              "x3    0.625280  \n",
              "x4    0.618590  \n",
              "x5    0.655128  \n",
              "...        ...  \n",
              "y464  0.577777  \n",
              "y465  0.577689  \n",
              "y466  0.576777  \n",
              "y467  0.625409  \n",
              "y468  0.624330  \n",
              "\n",
              "[936 rows x 8 columns]"
            ],
            "text/html": [
              "\n",
              "  <div id=\"df-4d07536c-0048-4e82-845c-16cfc923f04d\">\n",
              "    <div class=\"colab-df-container\">\n",
              "      <div>\n",
              "<style scoped>\n",
              "    .dataframe tbody tr th:only-of-type {\n",
              "        vertical-align: middle;\n",
              "    }\n",
              "\n",
              "    .dataframe tbody tr th {\n",
              "        vertical-align: top;\n",
              "    }\n",
              "\n",
              "    .dataframe thead th {\n",
              "        text-align: right;\n",
              "    }\n",
              "</style>\n",
              "<table border=\"1\" class=\"dataframe\">\n",
              "  <thead>\n",
              "    <tr style=\"text-align: right;\">\n",
              "      <th></th>\n",
              "      <th>count</th>\n",
              "      <th>mean</th>\n",
              "      <th>std</th>\n",
              "      <th>min</th>\n",
              "      <th>25%</th>\n",
              "      <th>50%</th>\n",
              "      <th>75%</th>\n",
              "      <th>max</th>\n",
              "    </tr>\n",
              "  </thead>\n",
              "  <tbody>\n",
              "    <tr>\n",
              "      <th>x1</th>\n",
              "      <td>1575.0</td>\n",
              "      <td>0.504852</td>\n",
              "      <td>0.034772</td>\n",
              "      <td>0.259859</td>\n",
              "      <td>0.485347</td>\n",
              "      <td>0.505489</td>\n",
              "      <td>0.524401</td>\n",
              "      <td>0.635382</td>\n",
              "    </tr>\n",
              "    <tr>\n",
              "      <th>x2</th>\n",
              "      <td>1575.0</td>\n",
              "      <td>0.503546</td>\n",
              "      <td>0.046904</td>\n",
              "      <td>0.257272</td>\n",
              "      <td>0.473844</td>\n",
              "      <td>0.501813</td>\n",
              "      <td>0.532893</td>\n",
              "      <td>0.657480</td>\n",
              "    </tr>\n",
              "    <tr>\n",
              "      <th>x3</th>\n",
              "      <td>1575.0</td>\n",
              "      <td>0.504134</td>\n",
              "      <td>0.032818</td>\n",
              "      <td>0.263137</td>\n",
              "      <td>0.484511</td>\n",
              "      <td>0.503545</td>\n",
              "      <td>0.523151</td>\n",
              "      <td>0.625280</td>\n",
              "    </tr>\n",
              "    <tr>\n",
              "      <th>x4</th>\n",
              "      <td>1575.0</td>\n",
              "      <td>0.488201</td>\n",
              "      <td>0.039819</td>\n",
              "      <td>0.263422</td>\n",
              "      <td>0.461535</td>\n",
              "      <td>0.484968</td>\n",
              "      <td>0.512474</td>\n",
              "      <td>0.618590</td>\n",
              "    </tr>\n",
              "    <tr>\n",
              "      <th>x5</th>\n",
              "      <td>1575.0</td>\n",
              "      <td>0.503227</td>\n",
              "      <td>0.048452</td>\n",
              "      <td>0.258436</td>\n",
              "      <td>0.472391</td>\n",
              "      <td>0.501603</td>\n",
              "      <td>0.533754</td>\n",
              "      <td>0.655128</td>\n",
              "    </tr>\n",
              "    <tr>\n",
              "      <th>...</th>\n",
              "      <td>...</td>\n",
              "      <td>...</td>\n",
              "      <td>...</td>\n",
              "      <td>...</td>\n",
              "      <td>...</td>\n",
              "      <td>...</td>\n",
              "      <td>...</td>\n",
              "      <td>...</td>\n",
              "    </tr>\n",
              "    <tr>\n",
              "      <th>y464</th>\n",
              "      <td>1575.0</td>\n",
              "      <td>0.494728</td>\n",
              "      <td>0.017385</td>\n",
              "      <td>0.420034</td>\n",
              "      <td>0.483992</td>\n",
              "      <td>0.494495</td>\n",
              "      <td>0.505059</td>\n",
              "      <td>0.577777</td>\n",
              "    </tr>\n",
              "    <tr>\n",
              "      <th>y465</th>\n",
              "      <td>1575.0</td>\n",
              "      <td>0.500194</td>\n",
              "      <td>0.016312</td>\n",
              "      <td>0.426418</td>\n",
              "      <td>0.490668</td>\n",
              "      <td>0.500117</td>\n",
              "      <td>0.509826</td>\n",
              "      <td>0.577689</td>\n",
              "    </tr>\n",
              "    <tr>\n",
              "      <th>y466</th>\n",
              "      <td>1575.0</td>\n",
              "      <td>0.504369</td>\n",
              "      <td>0.016058</td>\n",
              "      <td>0.430643</td>\n",
              "      <td>0.495660</td>\n",
              "      <td>0.504007</td>\n",
              "      <td>0.513965</td>\n",
              "      <td>0.576777</td>\n",
              "    </tr>\n",
              "    <tr>\n",
              "      <th>y467</th>\n",
              "      <td>1575.0</td>\n",
              "      <td>0.482564</td>\n",
              "      <td>0.029018</td>\n",
              "      <td>0.393126</td>\n",
              "      <td>0.464498</td>\n",
              "      <td>0.482014</td>\n",
              "      <td>0.499401</td>\n",
              "      <td>0.625409</td>\n",
              "    </tr>\n",
              "    <tr>\n",
              "      <th>y468</th>\n",
              "      <td>1575.0</td>\n",
              "      <td>0.473418</td>\n",
              "      <td>0.030611</td>\n",
              "      <td>0.376522</td>\n",
              "      <td>0.454698</td>\n",
              "      <td>0.472948</td>\n",
              "      <td>0.491039</td>\n",
              "      <td>0.624330</td>\n",
              "    </tr>\n",
              "  </tbody>\n",
              "</table>\n",
              "<p>936 rows × 8 columns</p>\n",
              "</div>\n",
              "      <button class=\"colab-df-convert\" onclick=\"convertToInteractive('df-4d07536c-0048-4e82-845c-16cfc923f04d')\"\n",
              "              title=\"Convert this dataframe to an interactive table.\"\n",
              "              style=\"display:none;\">\n",
              "        \n",
              "  <svg xmlns=\"http://www.w3.org/2000/svg\" height=\"24px\"viewBox=\"0 0 24 24\"\n",
              "       width=\"24px\">\n",
              "    <path d=\"M0 0h24v24H0V0z\" fill=\"none\"/>\n",
              "    <path d=\"M18.56 5.44l.94 2.06.94-2.06 2.06-.94-2.06-.94-.94-2.06-.94 2.06-2.06.94zm-11 1L8.5 8.5l.94-2.06 2.06-.94-2.06-.94L8.5 2.5l-.94 2.06-2.06.94zm10 10l.94 2.06.94-2.06 2.06-.94-2.06-.94-.94-2.06-.94 2.06-2.06.94z\"/><path d=\"M17.41 7.96l-1.37-1.37c-.4-.4-.92-.59-1.43-.59-.52 0-1.04.2-1.43.59L10.3 9.45l-7.72 7.72c-.78.78-.78 2.05 0 2.83L4 21.41c.39.39.9.59 1.41.59.51 0 1.02-.2 1.41-.59l7.78-7.78 2.81-2.81c.8-.78.8-2.07 0-2.86zM5.41 20L4 18.59l7.72-7.72 1.47 1.35L5.41 20z\"/>\n",
              "  </svg>\n",
              "      </button>\n",
              "      \n",
              "  <style>\n",
              "    .colab-df-container {\n",
              "      display:flex;\n",
              "      flex-wrap:wrap;\n",
              "      gap: 12px;\n",
              "    }\n",
              "\n",
              "    .colab-df-convert {\n",
              "      background-color: #E8F0FE;\n",
              "      border: none;\n",
              "      border-radius: 50%;\n",
              "      cursor: pointer;\n",
              "      display: none;\n",
              "      fill: #1967D2;\n",
              "      height: 32px;\n",
              "      padding: 0 0 0 0;\n",
              "      width: 32px;\n",
              "    }\n",
              "\n",
              "    .colab-df-convert:hover {\n",
              "      background-color: #E2EBFA;\n",
              "      box-shadow: 0px 1px 2px rgba(60, 64, 67, 0.3), 0px 1px 3px 1px rgba(60, 64, 67, 0.15);\n",
              "      fill: #174EA6;\n",
              "    }\n",
              "\n",
              "    [theme=dark] .colab-df-convert {\n",
              "      background-color: #3B4455;\n",
              "      fill: #D2E3FC;\n",
              "    }\n",
              "\n",
              "    [theme=dark] .colab-df-convert:hover {\n",
              "      background-color: #434B5C;\n",
              "      box-shadow: 0px 1px 3px 1px rgba(0, 0, 0, 0.15);\n",
              "      filter: drop-shadow(0px 1px 2px rgba(0, 0, 0, 0.3));\n",
              "      fill: #FFFFFF;\n",
              "    }\n",
              "  </style>\n",
              "\n",
              "      <script>\n",
              "        const buttonEl =\n",
              "          document.querySelector('#df-4d07536c-0048-4e82-845c-16cfc923f04d button.colab-df-convert');\n",
              "        buttonEl.style.display =\n",
              "          google.colab.kernel.accessAllowed ? 'block' : 'none';\n",
              "\n",
              "        async function convertToInteractive(key) {\n",
              "          const element = document.querySelector('#df-4d07536c-0048-4e82-845c-16cfc923f04d');\n",
              "          const dataTable =\n",
              "            await google.colab.kernel.invokeFunction('convertToInteractive',\n",
              "                                                     [key], {});\n",
              "          if (!dataTable) return;\n",
              "\n",
              "          const docLinkHtml = 'Like what you see? Visit the ' +\n",
              "            '<a target=\"_blank\" href=https://colab.research.google.com/notebooks/data_table.ipynb>data table notebook</a>'\n",
              "            + ' to learn more about interactive tables.';\n",
              "          element.innerHTML = '';\n",
              "          dataTable['output_type'] = 'display_data';\n",
              "          await google.colab.output.renderOutput(dataTable, element);\n",
              "          const docLink = document.createElement('div');\n",
              "          docLink.innerHTML = docLinkHtml;\n",
              "          element.appendChild(docLink);\n",
              "        }\n",
              "      </script>\n",
              "    </div>\n",
              "  </div>\n",
              "  "
            ]
          },
          "metadata": {},
          "execution_count": 6
        }
      ]
    },
    {
      "cell_type": "markdown",
      "source": [
        "Explore different criteria of scaling and test pca effect\n",
        "\n",
        "\n",
        "*   based on exploration choosed minmax and pca of 6 componnent\n",
        "\n",
        "\n"
      ],
      "metadata": {
        "id": "aI8L0LyYN6vw"
      }
    },
    {
      "cell_type": "code",
      "source": [
        "PCA_t=PCA(n_components=0.95)\n",
        "features1=PCA_t.fit_transform(features)\n",
        "features1.shape"
      ],
      "metadata": {
        "id": "rsfrnkZReCRx",
        "colab": {
          "base_uri": "https://localhost:8080/"
        },
        "outputId": "0469ba63-3025-4518-cbfd-9fef5999a251"
      },
      "execution_count": 7,
      "outputs": [
        {
          "output_type": "execute_result",
          "data": {
            "text/plain": [
              "(1575, 6)"
            ]
          },
          "metadata": {},
          "execution_count": 7
        }
      ]
    },
    {
      "cell_type": "code",
      "source": [
        "fig = plt.figure(figsize=(10,5))\n",
        "for i in  range(6):\n",
        "    ax1 = fig.add_subplot(2,3,i+1)\n",
        "    ax1.hist(features1[i])\n",
        "  "
      ],
      "metadata": {
        "colab": {
          "base_uri": "https://localhost:8080/",
          "height": 320
        },
        "id": "5_iUJb724TeP",
        "outputId": "67aac203-115e-4627-b04a-aba267f28274"
      },
      "execution_count": 8,
      "outputs": [
        {
          "output_type": "display_data",
          "data": {
            "text/plain": [
              "<Figure size 720x360 with 6 Axes>"
            ],
            "image/png": "[encoded data removed]"
          },
          "metadata": {
            "needs_background": "light"
          }
        }
      ]
    },
    {
      "cell_type": "code",
      "source": [
        "features2= RobustScaler().fit_transform(features)\n",
        "PCA1=PCA(n_components=0.95)\n",
        "features2=PCA1.fit_transform(features2)"
      ],
      "metadata": {
        "id": "N_TVf_jx0dKn"
      },
      "execution_count": 9,
      "outputs": []
    },
    {
      "cell_type": "code",
      "source": [
        "fig = plt.figure(figsize=(10,5))\n",
        "for i in  range(6):\n",
        "    ax1 = fig.add_subplot(2,3,i+1)\n",
        "    ax1.hist(features2[i])\n",
        "  "
      ],
      "metadata": {
        "colab": {
          "base_uri": "https://localhost:8080/",
          "height": 320
        },
        "id": "RqRdztSLutlI",
        "outputId": "eb07309c-90ae-4abc-e6a8-887ea539b450"
      },
      "execution_count": 10,
      "outputs": [
        {
          "output_type": "display_data",
          "data": {
            "text/plain": [
              "<Figure size 720x360 with 6 Axes>"
            ],
            "image/png": "[encoded data removed]"
          },
          "metadata": {
            "needs_background": "light"
          }
        }
      ]
    },
    {
      "cell_type": "code",
      "source": [
        "pd.DataFrame(features2).describe()"
      ],
      "metadata": {
        "colab": {
          "base_uri": "https://localhost:8080/",
          "height": 300
        },
        "id": "SxcwUiCNsVY5",
        "outputId": "f8a1e6f2-7efc-4e1e-e9d6-05b53738ac0d"
      },
      "execution_count": 11,
      "outputs": [
        {
          "output_type": "execute_result",
          "data": {
            "text/plain": [
              "                  0             1             2             3             4  \\\n",
              "count  1.575000e+03  1.575000e+03  1.575000e+03  1.575000e+03  1.575000e+03   \n",
              "mean   2.165464e-16 -1.804553e-16 -7.218212e-17 -3.609106e-17  1.443642e-16   \n",
              "std    1.451017e+01  1.168227e+01  1.144982e+01  1.017074e+01  5.800088e+00   \n",
              "min   -6.397112e+01 -3.506612e+01 -5.308094e+01 -4.666657e+01 -2.075875e+01   \n",
              "25%   -7.405003e+00 -8.020487e+00 -5.909720e+00 -5.697902e+00 -3.585275e+00   \n",
              "50%    3.225919e-01 -1.296301e+00  1.770765e+00 -3.487495e-01 -3.677203e-01   \n",
              "75%    7.315125e+00  6.214848e+00  6.705816e+00  5.055923e+00  3.309215e+00   \n",
              "max    9.266642e+01  1.047935e+02  5.865133e+01  8.236602e+01  7.075325e+01   \n",
              "\n",
              "                  5             6  \n",
              "count  1.575000e+03  1.575000e+03  \n",
              "mean   4.511382e-17 -3.609106e-17  \n",
              "std    5.494848e+00  4.201300e+00  \n",
              "min   -1.987011e+01 -1.572280e+01  \n",
              "25%   -3.452929e+00 -2.507831e+00  \n",
              "50%    5.226294e-01  2.020175e-01  \n",
              "75%    3.583887e+00  2.742791e+00  \n",
              "max    2.289859e+01  1.701112e+01  "
            ],
            "text/html": [
              "\n",
              "  <div id=\"df-42534e58-e16c-4d8f-9c6e-6a1f84b01ddc\">\n",
              "    <div class=\"colab-df-container\">\n",
              "      <div>\n",
              "<style scoped>\n",
              "    .dataframe tbody tr th:only-of-type {\n",
              "        vertical-align: middle;\n",
              "    }\n",
              "\n",
              "    .dataframe tbody tr th {\n",
              "        vertical-align: top;\n",
              "    }\n",
              "\n",
              "    .dataframe thead th {\n",
              "        text-align: right;\n",
              "    }\n",
              "</style>\n",
              "<table border=\"1\" class=\"dataframe\">\n",
              "  <thead>\n",
              "    <tr style=\"text-align: right;\">\n",
              "      <th></th>\n",
              "      <th>0</th>\n",
              "      <th>1</th>\n",
              "      <th>2</th>\n",
              "      <th>3</th>\n",
              "      <th>4</th>\n",
              "      <th>5</th>\n",
              "      <th>6</th>\n",
              "    </tr>\n",
              "  </thead>\n",
              "  <tbody>\n",
              "    <tr>\n",
              "      <th>count</th>\n",
              "      <td>1.575000e+03</td>\n",
              "      <td>1.575000e+03</td>\n",
              "      <td>1.575000e+03</td>\n",
              "      <td>1.575000e+03</td>\n",
              "      <td>1.575000e+03</td>\n",
              "      <td>1.575000e+03</td>\n",
              "      <td>1.575000e+03</td>\n",
              "    </tr>\n",
              "    <tr>\n",
              "      <th>mean</th>\n",
              "      <td>2.165464e-16</td>\n",
              "      <td>-1.804553e-16</td>\n",
              "      <td>-7.218212e-17</td>\n",
              "      <td>-3.609106e-17</td>\n",
              "      <td>1.443642e-16</td>\n",
              "      <td>4.511382e-17</td>\n",
              "      <td>-3.609106e-17</td>\n",
              "    </tr>\n",
              "    <tr>\n",
              "      <th>std</th>\n",
              "      <td>1.451017e+01</td>\n",
              "      <td>1.168227e+01</td>\n",
              "      <td>1.144982e+01</td>\n",
              "      <td>1.017074e+01</td>\n",
              "      <td>5.800088e+00</td>\n",
              "      <td>5.494848e+00</td>\n",
              "      <td>4.201300e+00</td>\n",
              "    </tr>\n",
              "    <tr>\n",
              "      <th>min</th>\n",
              "      <td>-6.397112e+01</td>\n",
              "      <td>-3.506612e+01</td>\n",
              "      <td>-5.308094e+01</td>\n",
              "      <td>-4.666657e+01</td>\n",
              "      <td>-2.075875e+01</td>\n",
              "      <td>-1.987011e+01</td>\n",
              "      <td>-1.572280e+01</td>\n",
              "    </tr>\n",
              "    <tr>\n",
              "      <th>25%</th>\n",
              "      <td>-7.405003e+00</td>\n",
              "      <td>-8.020487e+00</td>\n",
              "      <td>-5.909720e+00</td>\n",
              "      <td>-5.697902e+00</td>\n",
              "      <td>-3.585275e+00</td>\n",
              "      <td>-3.452929e+00</td>\n",
              "      <td>-2.507831e+00</td>\n",
              "    </tr>\n",
              "    <tr>\n",
              "      <th>50%</th>\n",
              "      <td>3.225919e-01</td>\n",
              "      <td>-1.296301e+00</td>\n",
              "      <td>1.770765e+00</td>\n",
              "      <td>-3.487495e-01</td>\n",
              "      <td>-3.677203e-01</td>\n",
              "      <td>5.226294e-01</td>\n",
              "      <td>2.020175e-01</td>\n",
              "    </tr>\n",
              "    <tr>\n",
              "      <th>75%</th>\n",
              "      <td>7.315125e+00</td>\n",
              "      <td>6.214848e+00</td>\n",
              "      <td>6.705816e+00</td>\n",
              "      <td>5.055923e+00</td>\n",
              "      <td>3.309215e+00</td>\n",
              "      <td>3.583887e+00</td>\n",
              "      <td>2.742791e+00</td>\n",
              "    </tr>\n",
              "    <tr>\n",
              "      <th>max</th>\n",
              "      <td>9.266642e+01</td>\n",
              "      <td>1.047935e+02</td>\n",
              "      <td>5.865133e+01</td>\n",
              "      <td>8.236602e+01</td>\n",
              "      <td>7.075325e+01</td>\n",
              "      <td>2.289859e+01</td>\n",
              "      <td>1.701112e+01</td>\n",
              "    </tr>\n",
              "  </tbody>\n",
              "</table>\n",
              "</div>\n",
              "      <button class=\"colab-df-convert\" onclick=\"convertToInteractive('df-42534e58-e16c-4d8f-9c6e-6a1f84b01ddc')\"\n",
              "              title=\"Convert this dataframe to an interactive table.\"\n",
              "              style=\"display:none;\">\n",
              "        \n",
              "  <svg xmlns=\"http://www.w3.org/2000/svg\" height=\"24px\"viewBox=\"0 0 24 24\"\n",
              "       width=\"24px\">\n",
              "    <path d=\"M0 0h24v24H0V0z\" fill=\"none\"/>\n",
              "    <path d=\"M18.56 5.44l.94 2.06.94-2.06 2.06-.94-2.06-.94-.94-2.06-.94 2.06-2.06.94zm-11 1L8.5 8.5l.94-2.06 2.06-.94-2.06-.94L8.5 2.5l-.94 2.06-2.06.94zm10 10l.94 2.06.94-2.06 2.06-.94-2.06-.94-.94-2.06-.94 2.06-2.06.94z\"/><path d=\"M17.41 7.96l-1.37-1.37c-.4-.4-.92-.59-1.43-.59-.52 0-1.04.2-1.43.59L10.3 9.45l-7.72 7.72c-.78.78-.78 2.05 0 2.83L4 21.41c.39.39.9.59 1.41.59.51 0 1.02-.2 1.41-.59l7.78-7.78 2.81-2.81c.8-.78.8-2.07 0-2.86zM5.41 20L4 18.59l7.72-7.72 1.47 1.35L5.41 20z\"/>\n",
              "  </svg>\n",
              "      </button>\n",
              "      \n",
              "  <style>\n",
              "    .colab-df-container {\n",
              "      display:flex;\n",
              "      flex-wrap:wrap;\n",
              "      gap: 12px;\n",
              "    }\n",
              "\n",
              "    .colab-df-convert {\n",
              "      background-color: #E8F0FE;\n",
              "      border: none;\n",
              "      border-radius: 50%;\n",
              "      cursor: pointer;\n",
              "      display: none;\n",
              "      fill: #1967D2;\n",
              "      height: 32px;\n",
              "      padding: 0 0 0 0;\n",
              "      width: 32px;\n",
              "    }\n",
              "\n",
              "    .colab-df-convert:hover {\n",
              "      background-color: #E2EBFA;\n",
              "      box-shadow: 0px 1px 2px rgba(60, 64, 67, 0.3), 0px 1px 3px 1px rgba(60, 64, 67, 0.15);\n",
              "      fill: #174EA6;\n",
              "    }\n",
              "\n",
              "    [theme=dark] .colab-df-convert {\n",
              "      background-color: #3B4455;\n",
              "      fill: #D2E3FC;\n",
              "    }\n",
              "\n",
              "    [theme=dark] .colab-df-convert:hover {\n",
              "      background-color: #434B5C;\n",
              "      box-shadow: 0px 1px 3px 1px rgba(0, 0, 0, 0.15);\n",
              "      filter: drop-shadow(0px 1px 2px rgba(0, 0, 0, 0.3));\n",
              "      fill: #FFFFFF;\n",
              "    }\n",
              "  </style>\n",
              "\n",
              "      <script>\n",
              "        const buttonEl =\n",
              "          document.querySelector('#df-42534e58-e16c-4d8f-9c6e-6a1f84b01ddc button.colab-df-convert');\n",
              "        buttonEl.style.display =\n",
              "          google.colab.kernel.accessAllowed ? 'block' : 'none';\n",
              "\n",
              "        async function convertToInteractive(key) {\n",
              "          const element = document.querySelector('#df-42534e58-e16c-4d8f-9c6e-6a1f84b01ddc');\n",
              "          const dataTable =\n",
              "            await google.colab.kernel.invokeFunction('convertToInteractive',\n",
              "                                                     [key], {});\n",
              "          if (!dataTable) return;\n",
              "\n",
              "          const docLinkHtml = 'Like what you see? Visit the ' +\n",
              "            '<a target=\"_blank\" href=https://colab.research.google.com/notebooks/data_table.ipynb>data table notebook</a>'\n",
              "            + ' to learn more about interactive tables.';\n",
              "          element.innerHTML = '';\n",
              "          dataTable['output_type'] = 'display_data';\n",
              "          await google.colab.output.renderOutput(dataTable, element);\n",
              "          const docLink = document.createElement('div');\n",
              "          docLink.innerHTML = docLinkHtml;\n",
              "          element.appendChild(docLink);\n",
              "        }\n",
              "      </script>\n",
              "    </div>\n",
              "  </div>\n",
              "  "
            ]
          },
          "metadata": {},
          "execution_count": 11
        }
      ]
    },
    {
      "cell_type": "code",
      "source": [
        "features3= MinMaxScaler().fit_transform(features)\n",
        "PCA1=PCA(n_components=7)\n",
        "features3=PCA1.fit_transform(features3)\n",
        "fig = plt.figure(figsize=(10,5))\n",
        "for i in  range(6):\n",
        "    ax1 = fig.add_subplot(2,3,i+1)\n",
        "    ax1.hist(features3[i])\n",
        "  "
      ],
      "metadata": {
        "colab": {
          "base_uri": "https://localhost:8080/",
          "height": 320
        },
        "id": "-jQYzAtev2N6",
        "outputId": "ef459249-77d4-4736-aae0-f40561e1cecc"
      },
      "execution_count": 12,
      "outputs": [
        {
          "output_type": "display_data",
          "data": {
            "text/plain": [
              "<Figure size 720x360 with 6 Axes>"
            ],
            "image/png": "[encoded data removed]"
          },
          "metadata": {
            "needs_background": "light"
          }
        }
      ]
    },
    {
      "cell_type": "code",
      "source": [
        "features4= StandardScaler().fit_transform(features)\n",
        "PCA1=PCA(n_components=0.95)\n",
        "features4=PCA1.fit_transform(features4)\n",
        "fig = plt.figure(figsize=(10,5))\n",
        "for i in  range(6):\n",
        "    ax1 = fig.add_subplot(2,3,i+1)\n",
        "    ax1.hist(features4[i])\n",
        "  "
      ],
      "metadata": {
        "colab": {
          "base_uri": "https://localhost:8080/",
          "height": 320
        },
        "id": "USbmKD9BwJKA",
        "outputId": "19bc7f6d-b958-4876-ee77-8686cec55d90"
      },
      "execution_count": 13,
      "outputs": [
        {
          "output_type": "display_data",
          "data": {
            "text/plain": [
              "<Figure size 720x360 with 6 Axes>"
            ],
            "image/png": "[encoded data removed]"
          },
          "metadata": {
            "needs_background": "light"
          }
        }
      ]
    },
    {
      "cell_type": "code",
      "source": [
        "features4.shape"
      ],
      "metadata": {
        "colab": {
          "base_uri": "https://localhost:8080/"
        },
        "id": "dOyPhYDpSfeM",
        "outputId": "521c9c5d-a8c4-4ead-b562-6d296c80afec"
      },
      "execution_count": 14,
      "outputs": [
        {
          "output_type": "execute_result",
          "data": {
            "text/plain": [
              "(1575, 7)"
            ]
          },
          "metadata": {},
          "execution_count": 14
        }
      ]
    },
    {
      "cell_type": "code",
      "source": [
        "features4[1]"
      ],
      "metadata": {
        "colab": {
          "base_uri": "https://localhost:8080/"
        },
        "id": "7N6k5rzPSjHb",
        "outputId": "20305b40-c835-4b95-f87a-8b95320e9311"
      },
      "execution_count": 15,
      "outputs": [
        {
          "output_type": "execute_result",
          "data": {
            "text/plain": [
              "array([ 45.27704475,  41.63771647, -17.71609174,  31.19812852,\n",
              "        13.03508513,  10.89321602,  -8.62871127])"
            ]
          },
          "metadata": {},
          "execution_count": 15
        }
      ]
    },
    {
      "cell_type": "code",
      "source": [
        "# face_points = features4\n",
        "# features5 = []\n",
        "# for i in range(7):\n",
        "#   for j in range(i+1, 7):\n",
        "#     features5.append(np.linalg.norm(face_points[i]-face_points[j]))\n",
        "            \n",
        "# x=np.array(features).reshape(1, -1)  \n",
        "# x.shape "
      ],
      "metadata": {
        "id": "bt_VnAGBQfbQ"
      },
      "execution_count": 16,
      "outputs": []
    },
    {
      "cell_type": "code",
      "source": [
        "labels.describe().T"
      ],
      "metadata": {
        "colab": {
          "base_uri": "https://localhost:8080/",
          "height": 143
        },
        "id": "umYee0OOMkmw",
        "outputId": "f492c3da-b631-45bd-c745-6621b947c3cf"
      },
      "execution_count": 17,
      "outputs": [
        {
          "output_type": "execute_result",
          "data": {
            "text/plain": [
              "        count      mean       std    min   25%   50%   75%   max\n",
              "pitch  1575.0 -0.104203  0.523348 -12.46 -0.25 -0.12  0.04  3.42\n",
              "yaw    1575.0  0.000660  0.634845  -6.13 -0.28  0.02  0.31  1.51\n",
              "roll   1575.0 -0.018616  0.620718 -16.97 -0.17 -0.02  0.14  5.83"
            ],
            "text/html": [
              "\n",
              "  <div id=\"df-2f700f3f-6400-4e82-ad29-3772857ee696\">\n",
              "    <div class=\"colab-df-container\">\n",
              "      <div>\n",
              "<style scoped>\n",
              "    .dataframe tbody tr th:only-of-type {\n",
              "        vertical-align: middle;\n",
              "    }\n",
              "\n",
              "    .dataframe tbody tr th {\n",
              "        vertical-align: top;\n",
              "    }\n",
              "\n",
              "    .dataframe thead th {\n",
              "        text-align: right;\n",
              "    }\n",
              "</style>\n",
              "<table border=\"1\" class=\"dataframe\">\n",
              "  <thead>\n",
              "    <tr style=\"text-align: right;\">\n",
              "      <th></th>\n",
              "      <th>count</th>\n",
              "      <th>mean</th>\n",
              "      <th>std</th>\n",
              "      <th>min</th>\n",
              "      <th>25%</th>\n",
              "      <th>50%</th>\n",
              "      <th>75%</th>\n",
              "      <th>max</th>\n",
              "    </tr>\n",
              "  </thead>\n",
              "  <tbody>\n",
              "    <tr>\n",
              "      <th>pitch</th>\n",
              "      <td>1575.0</td>\n",
              "      <td>-0.104203</td>\n",
              "      <td>0.523348</td>\n",
              "      <td>-12.46</td>\n",
              "      <td>-0.25</td>\n",
              "      <td>-0.12</td>\n",
              "      <td>0.04</td>\n",
              "      <td>3.42</td>\n",
              "    </tr>\n",
              "    <tr>\n",
              "      <th>yaw</th>\n",
              "      <td>1575.0</td>\n",
              "      <td>0.000660</td>\n",
              "      <td>0.634845</td>\n",
              "      <td>-6.13</td>\n",
              "      <td>-0.28</td>\n",
              "      <td>0.02</td>\n",
              "      <td>0.31</td>\n",
              "      <td>1.51</td>\n",
              "    </tr>\n",
              "    <tr>\n",
              "      <th>roll</th>\n",
              "      <td>1575.0</td>\n",
              "      <td>-0.018616</td>\n",
              "      <td>0.620718</td>\n",
              "      <td>-16.97</td>\n",
              "      <td>-0.17</td>\n",
              "      <td>-0.02</td>\n",
              "      <td>0.14</td>\n",
              "      <td>5.83</td>\n",
              "    </tr>\n",
              "  </tbody>\n",
              "</table>\n",
              "</div>\n",
              "      <button class=\"colab-df-convert\" onclick=\"convertToInteractive('df-2f700f3f-6400-4e82-ad29-3772857ee696')\"\n",
              "              title=\"Convert this dataframe to an interactive table.\"\n",
              "              style=\"display:none;\">\n",
              "        \n",
              "  <svg xmlns=\"http://www.w3.org/2000/svg\" height=\"24px\"viewBox=\"0 0 24 24\"\n",
              "       width=\"24px\">\n",
              "    <path d=\"M0 0h24v24H0V0z\" fill=\"none\"/>\n",
              "    <path d=\"M18.56 5.44l.94 2.06.94-2.06 2.06-.94-2.06-.94-.94-2.06-.94 2.06-2.06.94zm-11 1L8.5 8.5l.94-2.06 2.06-.94-2.06-.94L8.5 2.5l-.94 2.06-2.06.94zm10 10l.94 2.06.94-2.06 2.06-.94-2.06-.94-.94-2.06-.94 2.06-2.06.94z\"/><path d=\"M17.41 7.96l-1.37-1.37c-.4-.4-.92-.59-1.43-.59-.52 0-1.04.2-1.43.59L10.3 9.45l-7.72 7.72c-.78.78-.78 2.05 0 2.83L4 21.41c.39.39.9.59 1.41.59.51 0 1.02-.2 1.41-.59l7.78-7.78 2.81-2.81c.8-.78.8-2.07 0-2.86zM5.41 20L4 18.59l7.72-7.72 1.47 1.35L5.41 20z\"/>\n",
              "  </svg>\n",
              "      </button>\n",
              "      \n",
              "  <style>\n",
              "    .colab-df-container {\n",
              "      display:flex;\n",
              "      flex-wrap:wrap;\n",
              "      gap: 12px;\n",
              "    }\n",
              "\n",
              "    .colab-df-convert {\n",
              "      background-color: #E8F0FE;\n",
              "      border: none;\n",
              "      border-radius: 50%;\n",
              "      cursor: pointer;\n",
              "      display: none;\n",
              "      fill: #1967D2;\n",
              "      height: 32px;\n",
              "      padding: 0 0 0 0;\n",
              "      width: 32px;\n",
              "    }\n",
              "\n",
              "    .colab-df-convert:hover {\n",
              "      background-color: #E2EBFA;\n",
              "      box-shadow: 0px 1px 2px rgba(60, 64, 67, 0.3), 0px 1px 3px 1px rgba(60, 64, 67, 0.15);\n",
              "      fill: #174EA6;\n",
              "    }\n",
              "\n",
              "    [theme=dark] .colab-df-convert {\n",
              "      background-color: #3B4455;\n",
              "      fill: #D2E3FC;\n",
              "    }\n",
              "\n",
              "    [theme=dark] .colab-df-convert:hover {\n",
              "      background-color: #434B5C;\n",
              "      box-shadow: 0px 1px 3px 1px rgba(0, 0, 0, 0.15);\n",
              "      filter: drop-shadow(0px 1px 2px rgba(0, 0, 0, 0.3));\n",
              "      fill: #FFFFFF;\n",
              "    }\n",
              "  </style>\n",
              "\n",
              "      <script>\n",
              "        const buttonEl =\n",
              "          document.querySelector('#df-2f700f3f-6400-4e82-ad29-3772857ee696 button.colab-df-convert');\n",
              "        buttonEl.style.display =\n",
              "          google.colab.kernel.accessAllowed ? 'block' : 'none';\n",
              "\n",
              "        async function convertToInteractive(key) {\n",
              "          const element = document.querySelector('#df-2f700f3f-6400-4e82-ad29-3772857ee696');\n",
              "          const dataTable =\n",
              "            await google.colab.kernel.invokeFunction('convertToInteractive',\n",
              "                                                     [key], {});\n",
              "          if (!dataTable) return;\n",
              "\n",
              "          const docLinkHtml = 'Like what you see? Visit the ' +\n",
              "            '<a target=\"_blank\" href=https://colab.research.google.com/notebooks/data_table.ipynb>data table notebook</a>'\n",
              "            + ' to learn more about interactive tables.';\n",
              "          element.innerHTML = '';\n",
              "          dataTable['output_type'] = 'display_data';\n",
              "          await google.colab.output.renderOutput(dataTable, element);\n",
              "          const docLink = document.createElement('div');\n",
              "          docLink.innerHTML = docLinkHtml;\n",
              "          element.appendChild(docLink);\n",
              "        }\n",
              "      </script>\n",
              "    </div>\n",
              "  </div>\n",
              "  "
            ]
          },
          "metadata": {},
          "execution_count": 17
        }
      ]
    },
    {
      "cell_type": "code",
      "source": [
        "fig = plt.figure(figsize=(15,3))\n",
        "i=0\n",
        "for col in  labels.columns:\n",
        "    ax1 = fig.add_subplot(1,3,i+1)\n",
        "    ax1.hist(labels[col])\n",
        "    i=i+1"
      ],
      "metadata": {
        "colab": {
          "base_uri": "https://localhost:8080/",
          "height": 213
        },
        "id": "7rxEgV-1fkp6",
        "outputId": "4428c77f-6f0c-440f-b7e5-8afe2df3b154"
      },
      "execution_count": 18,
      "outputs": [
        {
          "output_type": "display_data",
          "data": {
            "text/plain": [
              "<Figure size 1080x216 with 3 Axes>"
            ],
            "image/png": "[encoded data removed]"
          },
          "metadata": {
            "needs_background": "light"
          }
        }
      ]
    },
    {
      "cell_type": "code",
      "source": [
        "features=features3"
      ],
      "metadata": {
        "id": "p6v3xTBvwirV"
      },
      "execution_count": 19,
      "outputs": []
    },
    {
      "cell_type": "markdown",
      "source": [
        "Explore different models"
      ],
      "metadata": {
        "id": "q_lfNCDgOdT6"
      }
    },
    {
      "cell_type": "code",
      "source": [
        "# remark: we fix random_state the end, to make sure we always get the same results\n",
        "features_train, features_validation_test, labels_train, labels_validation_test = train_test_split(\n",
        "    features, labels, test_size=0.2, random_state=100)"
      ],
      "metadata": {
        "id": "oZztA8bfefrv"
      },
      "execution_count": 20,
      "outputs": []
    },
    {
      "cell_type": "code",
      "source": [
        "features_validation, features_test, labels_validation, labels_test = train_test_split(\n",
        "    features_validation_test, labels_validation_test, test_size=0.1, random_state=100)"
      ],
      "metadata": {
        "id": "sfI1nXZ_xkRL"
      },
      "execution_count": 21,
      "outputs": []
    },
    {
      "cell_type": "code",
      "source": [
        "print(len(features_train))\n",
        "print(len(features_validation))\n",
        "print(len(features_test))\n",
        "print(len(labels_train))\n",
        "print(len(labels_validation))\n",
        "print(len(labels_test))"
      ],
      "metadata": {
        "colab": {
          "base_uri": "https://localhost:8080/"
        },
        "id": "GJcH8jYbeh2y",
        "outputId": "23cca846-4b64-49a4-dc4e-6c00aaf1b928"
      },
      "execution_count": 22,
      "outputs": [
        {
          "output_type": "stream",
          "name": "stdout",
          "text": [
            "1260\n",
            "283\n",
            "32\n",
            "1260\n",
            "283\n",
            "32\n"
          ]
        }
      ]
    },
    {
      "cell_type": "code",
      "source": [
        "reg_model =MultiOutputRegressor( linear_model.LinearRegression())\n",
        "reg_model.fit(features_train, labels_train)\n",
        "print(reg_model.score(features_train, labels_train))\n",
        "print(\"linrear regression:\", reg_model.score(features_validation, labels_validation))"
      ],
      "metadata": {
        "colab": {
          "base_uri": "https://localhost:8080/"
        },
        "id": "cll70WSjyQdP",
        "outputId": "556ce3d3-0453-40dc-a26d-71c12337e95a"
      },
      "execution_count": 23,
      "outputs": [
        {
          "output_type": "stream",
          "name": "stdout",
          "text": [
            "0.003375667581693905\n",
            "linrear regression: -0.004659943186859842\n"
          ]
        }
      ]
    },
    {
      "cell_type": "code",
      "source": [
        "ridge_model = MultiOutputRegressor(Ridge(random_state=42))\n",
        "ridge_model.fit(features_train, labels_train)\n",
        "print(ridge_model.score(features_train, labels_train))\n",
        "print(\"ridge regression:\", ridge_model.score(features_validation, labels_validation))"
      ],
      "metadata": {
        "colab": {
          "base_uri": "https://localhost:8080/"
        },
        "id": "tXhQ07pKxv6-",
        "outputId": "ec75ec5e-95e5-43e2-ef16-171cc455fb4f"
      },
      "execution_count": 24,
      "outputs": [
        {
          "output_type": "stream",
          "name": "stdout",
          "text": [
            "0.0033756637853259073\n",
            "ridge regression: -0.004657397916333128\n"
          ]
        }
      ]
    },
    {
      "cell_type": "code",
      "source": [
        "rf = MultiOutputRegressor(RandomForestRegressor(random_state=42))\n",
        "rf.fit(features_train, labels_train)\n",
        "print(rf.score(features_train, labels_train))\n",
        "print(rf.score(features_validation,labels_validation))"
      ],
      "metadata": {
        "colab": {
          "base_uri": "https://localhost:8080/"
        },
        "id": "yzyf8MBN15TT",
        "outputId": "6f512b55-98a8-4abf-dc5c-c81a26a479b8"
      },
      "execution_count": 25,
      "outputs": [
        {
          "output_type": "stream",
          "name": "stdout",
          "text": [
            "0.829366189298525\n",
            "-0.05130144682943083\n"
          ]
        }
      ]
    },
    {
      "cell_type": "code",
      "source": [
        "GB =MultiOutputRegressor( GradientBoostingRegressor(random_state=42))\n",
        "GB.fit(features_train, labels_train)\n",
        "print(GB.score(features_train, labels_train))\n",
        "print(GB.score(features_validation,labels_validation))"
      ],
      "metadata": {
        "colab": {
          "base_uri": "https://localhost:8080/"
        },
        "id": "ur-07w3yIvyi",
        "outputId": "a76f8410-0207-4446-a1d4-b4c8733c379c"
      },
      "execution_count": 26,
      "outputs": [
        {
          "output_type": "stream",
          "name": "stdout",
          "text": [
            "0.5713857758031619\n",
            "-0.4868350563994444\n"
          ]
        }
      ]
    },
    {
      "cell_type": "code",
      "source": [
        "svr=MultiOutputRegressor(SVR())\n",
        "svr.fit(features_train, labels_train)\n",
        "print(svr.score(features_train, labels_train))\n",
        "print(svr.score(features_validation,labels_validation))"
      ],
      "metadata": {
        "colab": {
          "base_uri": "https://localhost:8080/"
        },
        "id": "vVCFGKAGKEL9",
        "outputId": "02f40b74-6132-4c7f-9425-59431178572f"
      },
      "execution_count": 27,
      "outputs": [
        {
          "output_type": "stream",
          "name": "stdout",
          "text": [
            "0.09841153103686577\n",
            "-0.03489204314917712\n"
          ]
        }
      ]
    },
    {
      "cell_type": "code",
      "source": [
        "# PIPE_LINE =make_pipeline(scaler_robust,PCA1,reg_model).fit(features_train, labels_train)\n",
        "# print(PIPE_LINE.score(features_train, labels_train))\n",
        "# print(PIPE_LINE.score(features_validation,labels_validation))"
      ],
      "metadata": {
        "id": "Dg-KdzkriN5X"
      },
      "execution_count": 28,
      "outputs": []
    },
    {
      "cell_type": "code",
      "source": [
        "# PIPE_LINE =make_pipeline(scaler_robust,PCA1,ridge_model).fit(features_train, labels_train)\n",
        "# print(PIPE_LINE.score(features_train, labels_train))\n",
        "# print(PIPE_LINE.score(features_validation,labels_validation))"
      ],
      "metadata": {
        "id": "YVdbvPXQjmY5"
      },
      "execution_count": 29,
      "outputs": []
    },
    {
      "cell_type": "code",
      "source": [
        "# PCA2=PCA(n_components=4)\n",
        "# PIPE_LINE_RF =make_pipeline(scaler_robust,PCA2,rf).fit(features_train, labels_train)\n",
        "# print(PIPE_LINE_RF.score(features_train, labels_train))\n",
        "# print(PIPE_LINE_RF.score(features_validation,labels_validation))"
      ],
      "metadata": {
        "id": "QRtdI3wA3kRi"
      },
      "execution_count": 30,
      "outputs": []
    },
    {
      "cell_type": "code",
      "source": [
        "estimator = RandomForestRegressor()\n",
        "param_grid = { \"n_estimators\": [10,20,30], \"max_features\": [\"auto\", \"sqrt\", \"log2\"], \"min_samples_split\" : [2,4,8], \"bootstrap\": [True, False],  }\n",
        "grid = GridSearchCV(estimator, param_grid, n_jobs=-1, cv=5)\n",
        "grid.fit(features_train, labels_train)\n",
        "grid.score(features_validation,labels_validation)"
      ],
      "metadata": {
        "colab": {
          "base_uri": "https://localhost:8080/"
        },
        "id": "zqUWx3I27jBJ",
        "outputId": "b774435c-4dda-4e72-adff-b353ce7de2de"
      },
      "execution_count": 31,
      "outputs": [
        {
          "output_type": "execute_result",
          "data": {
            "text/plain": [
              "-0.07370395336756703"
            ]
          },
          "metadata": {},
          "execution_count": 31
        }
      ]
    },
    {
      "cell_type": "code",
      "source": [
        ""
      ],
      "metadata": {
        "id": "p4spD2WzRc8r"
      },
      "execution_count": null,
      "outputs": []
    },
    {
      "cell_type": "code",
      "source": [
        "svr = MultiOutputRegressor(SVR())\n",
        "parameters = {'estimator__kernel': ('linear', 'rbf','poly'), 'estimator__C':[1.5, 10],'estimator__gamma': [1e-7, 1e-4],'estimator__epsilon':[0.1,0.2,0.5,0.3]}\n",
        "clf = GridSearchCV(svr, parameters)\n",
        "clf.fit(features_train,labels_train)\n",
        "clf.best_params_\n",
        "clf.score(features_validation,labels_validation)"
      ],
      "metadata": {
        "id": "UvHkdX15w-0D",
        "colab": {
          "base_uri": "https://localhost:8080/"
        },
        "outputId": "376047d3-891c-4fa9-c386-1968e7b912cc"
      },
      "execution_count": 32,
      "outputs": [
        {
          "output_type": "execute_result",
          "data": {
            "text/plain": [
              "-0.0001681010167262631"
            ]
          },
          "metadata": {},
          "execution_count": 32
        }
      ]
    },
    {
      "cell_type": "code",
      "source": [
        "clf.best_params_\n"
      ],
      "metadata": {
        "colab": {
          "base_uri": "https://localhost:8080/"
        },
        "id": "haQ9z2MzQaC1",
        "outputId": "2a8d5909-4910-48a6-e843-356bebaf354d"
      },
      "execution_count": 38,
      "outputs": [
        {
          "output_type": "execute_result",
          "data": {
            "text/plain": [
              "{'estimator__C': 10,\n",
              " 'estimator__epsilon': 0.1,\n",
              " 'estimator__gamma': 1e-07,\n",
              " 'estimator__kernel': 'rbf'}"
            ]
          },
          "metadata": {},
          "execution_count": 38
        }
      ]
    },
    {
      "cell_type": "code",
      "source": [
        "svr = MultiOutputRegressor(SVR())\n",
        "parameters = {'estimator__kernel': ['rbf'], 'estimator__C':[10,20],'estimator__gamma': [1e-7, 1e-10],'estimator__epsilon':[0.1,0.05]}\n",
        "clf = GridSearchCV(svr, parameters)\n",
        "clf.fit(features_train,labels_train)\n",
        "#clf.best_params_\n",
        "clf.score(features_validation,labels_validation)"
      ],
      "metadata": {
        "colab": {
          "base_uri": "https://localhost:8080/"
        },
        "id": "EGh_GHFnQj1X",
        "outputId": "c07da61e-4027-4ccf-b0da-3eccef3c61c1"
      },
      "execution_count": 43,
      "outputs": [
        {
          "output_type": "execute_result",
          "data": {
            "text/plain": [
              "-0.00018066575365346024"
            ]
          },
          "metadata": {},
          "execution_count": 43
        }
      ]
    },
    {
      "cell_type": "code",
      "source": [
        "clf.best_params_"
      ],
      "metadata": {
        "colab": {
          "base_uri": "https://localhost:8080/"
        },
        "id": "gBeUV4-eRig4",
        "outputId": "9bfe5848-f747-4567-d407-fe53fcb622e0"
      },
      "execution_count": 45,
      "outputs": [
        {
          "output_type": "execute_result",
          "data": {
            "text/plain": [
              "{'estimator__C': 20,\n",
              " 'estimator__epsilon': 0.1,\n",
              " 'estimator__gamma': 1e-07,\n",
              " 'estimator__kernel': 'rbf'}"
            ]
          },
          "metadata": {},
          "execution_count": 45
        }
      ]
    },
    {
      "cell_type": "code",
      "source": [
        "# %%capture\n",
        "# !pip install mediapipe\n",
        "# #import libraries\n",
        "# import numpy as np\n",
        "# import os,cv2\n",
        "# import scipy.io as sio\n",
        "# import pandas as pd\n",
        "# import mediapipe as mp\n",
        "# import warnings\n",
        "# warnings.filterwarnings('ignore')"
      ],
      "metadata": {
        "id": "uyWo6wo2l4NS"
      },
      "execution_count": 33,
      "outputs": []
    },
    {
      "cell_type": "code",
      "source": [
        "# s= MinMaxScaler().fit(features)\n",
        "# PCA1=PCA(n_components=0.95)\n",
        "# p=PCA1.fit(features)"
      ],
      "metadata": {
        "id": "qr03jjWYmjT3"
      },
      "execution_count": 34,
      "outputs": []
    },
    {
      "cell_type": "code",
      "source": [
        "# x=[]\n",
        "# y=[]\n",
        "# image = cv2.imread(\"/content/drive/MyDrive/data/images.jpg\")\n",
        "# mp_face_mesh=mp.solutions.face_mesh.FaceMesh()\n",
        "# result=mp_face_mesh.process(image)\n",
        "# height,width,_=image.shape \n",
        "# if result.multi_face_landmarks != None: \n",
        "#   for facial_landmarks in result.multi_face_landmarks:\n",
        "#     for i in range(0,468):\n",
        "#       pt1=facial_landmarks.landmark[i]\n",
        "#       #print(pt1)\n",
        "#       x.append(pt1.x)\n",
        "#       y.append(pt1.y)\n",
        "    \n",
        "      "
      ],
      "metadata": {
        "id": "2an9auoBl-2O"
      },
      "execution_count": 35,
      "outputs": []
    },
    {
      "cell_type": "code",
      "source": [
        "# z=pd.DataFrame(np.array([*x,*y]).reshape(1,-1))"
      ],
      "metadata": {
        "id": "NUJPhPoAsKwp"
      },
      "execution_count": 36,
      "outputs": []
    },
    {
      "cell_type": "code",
      "source": [
        "# features=s.transform(z)\n",
        "# features=p.transform(features)\n",
        "# y=clf.predict(features)\n",
        "# print(y)"
      ],
      "metadata": {
        "id": "6vVC4stQn7MC"
      },
      "execution_count": 37,
      "outputs": []
    },
    {
      "cell_type": "code",
      "source": [
        ""
      ],
      "metadata": {
        "id": "1dZOCfF0uT0-"
      },
      "execution_count": 37,
      "outputs": []
    }
  ]
}