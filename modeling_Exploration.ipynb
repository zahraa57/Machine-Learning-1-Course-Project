{
 "cells": [
  {
   "cell_type": "code",
   "execution_count": 1,
   "metadata": {},
   "outputs": [],
   "source": [
    "# !pip install xgboost"
   ]
  },
  {
   "cell_type": "code",
   "execution_count": 1,
   "metadata": {
    "id": "EDxZ0smU0wth"
   },
   "outputs": [],
   "source": [
    "import random as rd\n",
    "rd.seed(0)"
   ]
  },
  {
   "cell_type": "code",
   "execution_count": 2,
   "metadata": {
    "id": "674n0oo_eAdQ"
   },
   "outputs": [],
   "source": [
    "import pandas as pd\n",
    "import numpy as np\n",
    "import matplotlib.pyplot as plt\n",
    "\n",
    "from sklearn.model_selection import train_test_split\n",
    "from sklearn.decomposition import PCA \n",
    "from sklearn.preprocessing import MinMaxScaler, StandardScaler, RobustScaler\n",
    "from sklearn.model_selection import GridSearchCV\n",
    "from sklearn.pipeline import make_pipeline\n",
    "from sklearn.multioutput import MultiOutputRegressor\n",
    "from sklearn import linear_model\n",
    "from sklearn.linear_model import Ridge\n",
    "from sklearn.ensemble import RandomForestRegressor\n",
    "from sklearn.ensemble import GradientBoostingRegressor\n",
    "from sklearn.svm import SVR\n",
    "from sklearn.linear_model import ElasticNet\n",
    "import xgboost as xg"
   ]
  },
  {
   "cell_type": "markdown",
   "metadata": {
    "id": "NWGnUSANNxu4"
   },
   "source": [
    "# Preprocessing exploration "
   ]
  },
  {
   "cell_type": "code",
   "execution_count": 3,
   "metadata": {
    "colab": {
     "base_uri": "https://localhost:8080/",
     "height": 299
    },
    "id": "RviBPfy8eFN6",
    "outputId": "94978978-f15d-472d-f1a0-ed5920ccd45b"
   },
   "outputs": [
    {
     "data": {
      "text/html": [
       "<div>\n",
       "<style scoped>\n",
       "    .dataframe tbody tr th:only-of-type {\n",
       "        vertical-align: middle;\n",
       "    }\n",
       "\n",
       "    .dataframe tbody tr th {\n",
       "        vertical-align: top;\n",
       "    }\n",
       "\n",
       "    .dataframe thead th {\n",
       "        text-align: right;\n",
       "    }\n",
       "</style>\n",
       "<table border=\"1\" class=\"dataframe\">\n",
       "  <thead>\n",
       "    <tr style=\"text-align: right;\">\n",
       "      <th></th>\n",
       "      <th>file_name</th>\n",
       "      <th>x1</th>\n",
       "      <th>x2</th>\n",
       "      <th>x3</th>\n",
       "      <th>x4</th>\n",
       "      <th>x5</th>\n",
       "      <th>x6</th>\n",
       "      <th>x7</th>\n",
       "      <th>x8</th>\n",
       "      <th>x9</th>\n",
       "      <th>...</th>\n",
       "      <th>y466</th>\n",
       "      <th>y467</th>\n",
       "      <th>y468</th>\n",
       "      <th>pitch</th>\n",
       "      <th>yaw</th>\n",
       "      <th>roll</th>\n",
       "      <th>h</th>\n",
       "      <th>v</th>\n",
       "      <th>t</th>\n",
       "      <th>scale</th>\n",
       "    </tr>\n",
       "  </thead>\n",
       "  <tbody>\n",
       "    <tr>\n",
       "      <th>0</th>\n",
       "      <td>image00002</td>\n",
       "      <td>-1.594493</td>\n",
       "      <td>0.0</td>\n",
       "      <td>0.273813</td>\n",
       "      <td>-4.258785</td>\n",
       "      <td>0.613944</td>\n",
       "      <td>1.997763</td>\n",
       "      <td>6.299825</td>\n",
       "      <td>-56.482413</td>\n",
       "      <td>8.745705</td>\n",
       "      <td>...</td>\n",
       "      <td>-62.707633</td>\n",
       "      <td>-75.773491</td>\n",
       "      <td>-79.072487</td>\n",
       "      <td>-0.399231</td>\n",
       "      <td>0.018227</td>\n",
       "      <td>0.085676</td>\n",
       "      <td>231.465317</td>\n",
       "      <td>262.066589</td>\n",
       "      <td>-102.793602</td>\n",
       "      <td>0.001587</td>\n",
       "    </tr>\n",
       "    <tr>\n",
       "      <th>1</th>\n",
       "      <td>image00004</td>\n",
       "      <td>10.903019</td>\n",
       "      <td>0.0</td>\n",
       "      <td>14.204845</td>\n",
       "      <td>8.424470</td>\n",
       "      <td>-0.682220</td>\n",
       "      <td>4.278231</td>\n",
       "      <td>21.117206</td>\n",
       "      <td>21.212491</td>\n",
       "      <td>25.584948</td>\n",
       "      <td>...</td>\n",
       "      <td>-34.802011</td>\n",
       "      <td>-41.403008</td>\n",
       "      <td>-43.588780</td>\n",
       "      <td>0.470065</td>\n",
       "      <td>1.189533</td>\n",
       "      <td>0.300959</td>\n",
       "      <td>330.819702</td>\n",
       "      <td>173.194244</td>\n",
       "      <td>-44.367504</td>\n",
       "      <td>0.001181</td>\n",
       "    </tr>\n",
       "    <tr>\n",
       "      <th>2</th>\n",
       "      <td>image00008</td>\n",
       "      <td>15.480316</td>\n",
       "      <td>0.0</td>\n",
       "      <td>8.992133</td>\n",
       "      <td>-11.289753</td>\n",
       "      <td>-3.494462</td>\n",
       "      <td>-5.583005</td>\n",
       "      <td>-8.172262</td>\n",
       "      <td>-48.574658</td>\n",
       "      <td>-14.342710</td>\n",
       "      <td>...</td>\n",
       "      <td>-60.867530</td>\n",
       "      <td>-89.236236</td>\n",
       "      <td>-94.180499</td>\n",
       "      <td>-0.175379</td>\n",
       "      <td>0.299208</td>\n",
       "      <td>-0.373374</td>\n",
       "      <td>262.805054</td>\n",
       "      <td>211.201294</td>\n",
       "      <td>-102.680016</td>\n",
       "      <td>0.001294</td>\n",
       "    </tr>\n",
       "    <tr>\n",
       "      <th>3</th>\n",
       "      <td>image00013</td>\n",
       "      <td>7.879311</td>\n",
       "      <td>0.0</td>\n",
       "      <td>3.162163</td>\n",
       "      <td>-11.412464</td>\n",
       "      <td>-2.037916</td>\n",
       "      <td>-4.110177</td>\n",
       "      <td>-8.307070</td>\n",
       "      <td>-60.646449</td>\n",
       "      <td>-10.829245</td>\n",
       "      <td>...</td>\n",
       "      <td>-50.452325</td>\n",
       "      <td>-68.443993</td>\n",
       "      <td>-70.299277</td>\n",
       "      <td>-0.026812</td>\n",
       "      <td>0.011965</td>\n",
       "      <td>-0.220662</td>\n",
       "      <td>225.624603</td>\n",
       "      <td>199.878860</td>\n",
       "      <td>-109.525414</td>\n",
       "      <td>0.001357</td>\n",
       "    </tr>\n",
       "    <tr>\n",
       "      <th>4</th>\n",
       "      <td>image00014</td>\n",
       "      <td>3.662235</td>\n",
       "      <td>0.0</td>\n",
       "      <td>2.879432</td>\n",
       "      <td>-5.797742</td>\n",
       "      <td>-0.535919</td>\n",
       "      <td>-0.180472</td>\n",
       "      <td>1.884145</td>\n",
       "      <td>-49.433380</td>\n",
       "      <td>2.246135</td>\n",
       "      <td>...</td>\n",
       "      <td>-43.464111</td>\n",
       "      <td>-50.942150</td>\n",
       "      <td>-52.917141</td>\n",
       "      <td>0.057119</td>\n",
       "      <td>0.110732</td>\n",
       "      <td>-0.043283</td>\n",
       "      <td>239.685089</td>\n",
       "      <td>190.156235</td>\n",
       "      <td>-109.077309</td>\n",
       "      <td>0.001341</td>\n",
       "    </tr>\n",
       "  </tbody>\n",
       "</table>\n",
       "<p>5 rows × 944 columns</p>\n",
       "</div>"
      ],
      "text/plain": [
       "    file_name         x1   x2         x3         x4        x5        x6  \\\n",
       "0  image00002  -1.594493  0.0   0.273813  -4.258785  0.613944  1.997763   \n",
       "1  image00004  10.903019  0.0  14.204845   8.424470 -0.682220  4.278231   \n",
       "2  image00008  15.480316  0.0   8.992133 -11.289753 -3.494462 -5.583005   \n",
       "3  image00013   7.879311  0.0   3.162163 -11.412464 -2.037916 -4.110177   \n",
       "4  image00014   3.662235  0.0   2.879432  -5.797742 -0.535919 -0.180472   \n",
       "\n",
       "          x7         x8         x9  ...       y466       y467       y468  \\\n",
       "0   6.299825 -56.482413   8.745705  ... -62.707633 -75.773491 -79.072487   \n",
       "1  21.117206  21.212491  25.584948  ... -34.802011 -41.403008 -43.588780   \n",
       "2  -8.172262 -48.574658 -14.342710  ... -60.867530 -89.236236 -94.180499   \n",
       "3  -8.307070 -60.646449 -10.829245  ... -50.452325 -68.443993 -70.299277   \n",
       "4   1.884145 -49.433380   2.246135  ... -43.464111 -50.942150 -52.917141   \n",
       "\n",
       "      pitch       yaw      roll           h           v           t     scale  \n",
       "0 -0.399231  0.018227  0.085676  231.465317  262.066589 -102.793602  0.001587  \n",
       "1  0.470065  1.189533  0.300959  330.819702  173.194244  -44.367504  0.001181  \n",
       "2 -0.175379  0.299208 -0.373374  262.805054  211.201294 -102.680016  0.001294  \n",
       "3 -0.026812  0.011965 -0.220662  225.624603  199.878860 -109.525414  0.001357  \n",
       "4  0.057119  0.110732 -0.043283  239.685089  190.156235 -109.077309  0.001341  \n",
       "\n",
       "[5 rows x 944 columns]"
      ]
     },
     "execution_count": 3,
     "metadata": {},
     "output_type": "execute_result"
    }
   ],
   "source": [
    "data = pd.read_csv('data2.csv')\n",
    "data.head(5)"
   ]
  },
  {
   "cell_type": "code",
   "execution_count": 4,
   "metadata": {},
   "outputs": [
    {
     "data": {
      "text/html": [
       "<div>\n",
       "<style scoped>\n",
       "    .dataframe tbody tr th:only-of-type {\n",
       "        vertical-align: middle;\n",
       "    }\n",
       "\n",
       "    .dataframe tbody tr th {\n",
       "        vertical-align: top;\n",
       "    }\n",
       "\n",
       "    .dataframe thead th {\n",
       "        text-align: right;\n",
       "    }\n",
       "</style>\n",
       "<table border=\"1\" class=\"dataframe\">\n",
       "  <thead>\n",
       "    <tr style=\"text-align: right;\">\n",
       "      <th></th>\n",
       "      <th>x1</th>\n",
       "      <th>x2</th>\n",
       "      <th>x3</th>\n",
       "      <th>x4</th>\n",
       "      <th>x5</th>\n",
       "      <th>x6</th>\n",
       "      <th>x7</th>\n",
       "      <th>x8</th>\n",
       "      <th>x9</th>\n",
       "      <th>x10</th>\n",
       "      <th>...</th>\n",
       "      <th>y466</th>\n",
       "      <th>y467</th>\n",
       "      <th>y468</th>\n",
       "      <th>pitch</th>\n",
       "      <th>yaw</th>\n",
       "      <th>roll</th>\n",
       "      <th>h</th>\n",
       "      <th>v</th>\n",
       "      <th>t</th>\n",
       "      <th>scale</th>\n",
       "    </tr>\n",
       "  </thead>\n",
       "  <tbody>\n",
       "    <tr>\n",
       "      <th>count</th>\n",
       "      <td>1835.000000</td>\n",
       "      <td>1835.0</td>\n",
       "      <td>1835.000000</td>\n",
       "      <td>1835.000000</td>\n",
       "      <td>1835.000000</td>\n",
       "      <td>1835.000000</td>\n",
       "      <td>1835.000000</td>\n",
       "      <td>1835.000000</td>\n",
       "      <td>1835.000000</td>\n",
       "      <td>1835.000000</td>\n",
       "      <td>...</td>\n",
       "      <td>1835.000000</td>\n",
       "      <td>1835.000000</td>\n",
       "      <td>1835.000000</td>\n",
       "      <td>1835.000000</td>\n",
       "      <td>1835.000000</td>\n",
       "      <td>1835.000000</td>\n",
       "      <td>1835.000000</td>\n",
       "      <td>1835.000000</td>\n",
       "      <td>1835.000000</td>\n",
       "      <td>1835.000000</td>\n",
       "    </tr>\n",
       "    <tr>\n",
       "      <th>mean</th>\n",
       "      <td>0.653784</td>\n",
       "      <td>0.0</td>\n",
       "      <td>0.417743</td>\n",
       "      <td>-6.050050</td>\n",
       "      <td>-0.132272</td>\n",
       "      <td>-0.162727</td>\n",
       "      <td>-0.045237</td>\n",
       "      <td>-50.675876</td>\n",
       "      <td>-0.210103</td>\n",
       "      <td>-0.367470</td>\n",
       "      <td>...</td>\n",
       "      <td>-46.730109</td>\n",
       "      <td>-56.510268</td>\n",
       "      <td>-59.886670</td>\n",
       "      <td>-0.094108</td>\n",
       "      <td>0.014334</td>\n",
       "      <td>-0.034242</td>\n",
       "      <td>228.799657</td>\n",
       "      <td>206.596466</td>\n",
       "      <td>-89.313924</td>\n",
       "      <td>0.001360</td>\n",
       "    </tr>\n",
       "    <tr>\n",
       "      <th>std</th>\n",
       "      <td>10.986264</td>\n",
       "      <td>0.0</td>\n",
       "      <td>8.968996</td>\n",
       "      <td>8.387220</td>\n",
       "      <td>2.219734</td>\n",
       "      <td>4.815548</td>\n",
       "      <td>14.496182</td>\n",
       "      <td>30.819028</td>\n",
       "      <td>19.616899</td>\n",
       "      <td>21.431815</td>\n",
       "      <td>...</td>\n",
       "      <td>12.847908</td>\n",
       "      <td>21.735150</td>\n",
       "      <td>22.683147</td>\n",
       "      <td>0.552639</td>\n",
       "      <td>0.578158</td>\n",
       "      <td>0.652992</td>\n",
       "      <td>56.315137</td>\n",
       "      <td>27.176263</td>\n",
       "      <td>27.480704</td>\n",
       "      <td>0.000194</td>\n",
       "    </tr>\n",
       "    <tr>\n",
       "      <th>min</th>\n",
       "      <td>-32.511377</td>\n",
       "      <td>0.0</td>\n",
       "      <td>-28.177062</td>\n",
       "      <td>-36.314321</td>\n",
       "      <td>-9.909448</td>\n",
       "      <td>-22.494413</td>\n",
       "      <td>-59.686674</td>\n",
       "      <td>-148.466022</td>\n",
       "      <td>-85.524501</td>\n",
       "      <td>-97.373722</td>\n",
       "      <td>...</td>\n",
       "      <td>-103.200352</td>\n",
       "      <td>-128.665620</td>\n",
       "      <td>-137.349795</td>\n",
       "      <td>-12.457202</td>\n",
       "      <td>-6.130066</td>\n",
       "      <td>-16.969362</td>\n",
       "      <td>47.105087</td>\n",
       "      <td>87.869553</td>\n",
       "      <td>-150.239090</td>\n",
       "      <td>-0.001489</td>\n",
       "    </tr>\n",
       "    <tr>\n",
       "      <th>25%</th>\n",
       "      <td>-7.565358</td>\n",
       "      <td>0.0</td>\n",
       "      <td>-5.766200</td>\n",
       "      <td>-10.887355</td>\n",
       "      <td>-1.324193</td>\n",
       "      <td>-2.591644</td>\n",
       "      <td>-8.504668</td>\n",
       "      <td>-71.588809</td>\n",
       "      <td>-11.233474</td>\n",
       "      <td>-11.887517</td>\n",
       "      <td>...</td>\n",
       "      <td>-55.763206</td>\n",
       "      <td>-70.837120</td>\n",
       "      <td>-75.003415</td>\n",
       "      <td>-0.246061</td>\n",
       "      <td>-0.254039</td>\n",
       "      <td>-0.159940</td>\n",
       "      <td>194.241714</td>\n",
       "      <td>191.534698</td>\n",
       "      <td>-108.518337</td>\n",
       "      <td>0.001227</td>\n",
       "    </tr>\n",
       "    <tr>\n",
       "      <th>50%</th>\n",
       "      <td>1.002502</td>\n",
       "      <td>0.0</td>\n",
       "      <td>0.530782</td>\n",
       "      <td>-7.199049</td>\n",
       "      <td>-0.069013</td>\n",
       "      <td>-0.152054</td>\n",
       "      <td>-0.471801</td>\n",
       "      <td>-58.846191</td>\n",
       "      <td>-0.873837</td>\n",
       "      <td>-0.885639</td>\n",
       "      <td>...</td>\n",
       "      <td>-46.922806</td>\n",
       "      <td>-56.145474</td>\n",
       "      <td>-59.579721</td>\n",
       "      <td>-0.123066</td>\n",
       "      <td>0.020001</td>\n",
       "      <td>-0.016562</td>\n",
       "      <td>230.320404</td>\n",
       "      <td>207.430695</td>\n",
       "      <td>-98.125885</td>\n",
       "      <td>0.001354</td>\n",
       "    </tr>\n",
       "    <tr>\n",
       "      <th>75%</th>\n",
       "      <td>8.727653</td>\n",
       "      <td>0.0</td>\n",
       "      <td>6.726913</td>\n",
       "      <td>-1.310695</td>\n",
       "      <td>1.107296</td>\n",
       "      <td>2.257334</td>\n",
       "      <td>8.432879</td>\n",
       "      <td>-34.886722</td>\n",
       "      <td>10.951500</td>\n",
       "      <td>11.287419</td>\n",
       "      <td>...</td>\n",
       "      <td>-38.998233</td>\n",
       "      <td>-43.720429</td>\n",
       "      <td>-46.639524</td>\n",
       "      <td>0.031996</td>\n",
       "      <td>0.302307</td>\n",
       "      <td>0.124591</td>\n",
       "      <td>263.723373</td>\n",
       "      <td>223.562462</td>\n",
       "      <td>-79.001957</td>\n",
       "      <td>0.001483</td>\n",
       "    </tr>\n",
       "    <tr>\n",
       "      <th>max</th>\n",
       "      <td>35.393183</td>\n",
       "      <td>0.0</td>\n",
       "      <td>26.429254</td>\n",
       "      <td>25.224982</td>\n",
       "      <td>8.011074</td>\n",
       "      <td>19.316854</td>\n",
       "      <td>47.713856</td>\n",
       "      <td>75.872585</td>\n",
       "      <td>68.683822</td>\n",
       "      <td>79.432561</td>\n",
       "      <td>...</td>\n",
       "      <td>44.610634</td>\n",
       "      <td>54.203877</td>\n",
       "      <td>57.893041</td>\n",
       "      <td>15.598820</td>\n",
       "      <td>3.277500</td>\n",
       "      <td>2.166107</td>\n",
       "      <td>408.259674</td>\n",
       "      <td>303.224304</td>\n",
       "      <td>13.463660</td>\n",
       "      <td>0.002354</td>\n",
       "    </tr>\n",
       "  </tbody>\n",
       "</table>\n",
       "<p>8 rows × 943 columns</p>\n",
       "</div>"
      ],
      "text/plain": [
       "                x1      x2           x3           x4           x5  \\\n",
       "count  1835.000000  1835.0  1835.000000  1835.000000  1835.000000   \n",
       "mean      0.653784     0.0     0.417743    -6.050050    -0.132272   \n",
       "std      10.986264     0.0     8.968996     8.387220     2.219734   \n",
       "min     -32.511377     0.0   -28.177062   -36.314321    -9.909448   \n",
       "25%      -7.565358     0.0    -5.766200   -10.887355    -1.324193   \n",
       "50%       1.002502     0.0     0.530782    -7.199049    -0.069013   \n",
       "75%       8.727653     0.0     6.726913    -1.310695     1.107296   \n",
       "max      35.393183     0.0    26.429254    25.224982     8.011074   \n",
       "\n",
       "                x6           x7           x8           x9          x10  ...  \\\n",
       "count  1835.000000  1835.000000  1835.000000  1835.000000  1835.000000  ...   \n",
       "mean     -0.162727    -0.045237   -50.675876    -0.210103    -0.367470  ...   \n",
       "std       4.815548    14.496182    30.819028    19.616899    21.431815  ...   \n",
       "min     -22.494413   -59.686674  -148.466022   -85.524501   -97.373722  ...   \n",
       "25%      -2.591644    -8.504668   -71.588809   -11.233474   -11.887517  ...   \n",
       "50%      -0.152054    -0.471801   -58.846191    -0.873837    -0.885639  ...   \n",
       "75%       2.257334     8.432879   -34.886722    10.951500    11.287419  ...   \n",
       "max      19.316854    47.713856    75.872585    68.683822    79.432561  ...   \n",
       "\n",
       "              y466         y467         y468        pitch          yaw  \\\n",
       "count  1835.000000  1835.000000  1835.000000  1835.000000  1835.000000   \n",
       "mean    -46.730109   -56.510268   -59.886670    -0.094108     0.014334   \n",
       "std      12.847908    21.735150    22.683147     0.552639     0.578158   \n",
       "min    -103.200352  -128.665620  -137.349795   -12.457202    -6.130066   \n",
       "25%     -55.763206   -70.837120   -75.003415    -0.246061    -0.254039   \n",
       "50%     -46.922806   -56.145474   -59.579721    -0.123066     0.020001   \n",
       "75%     -38.998233   -43.720429   -46.639524     0.031996     0.302307   \n",
       "max      44.610634    54.203877    57.893041    15.598820     3.277500   \n",
       "\n",
       "              roll            h            v            t        scale  \n",
       "count  1835.000000  1835.000000  1835.000000  1835.000000  1835.000000  \n",
       "mean     -0.034242   228.799657   206.596466   -89.313924     0.001360  \n",
       "std       0.652992    56.315137    27.176263    27.480704     0.000194  \n",
       "min     -16.969362    47.105087    87.869553  -150.239090    -0.001489  \n",
       "25%      -0.159940   194.241714   191.534698  -108.518337     0.001227  \n",
       "50%      -0.016562   230.320404   207.430695   -98.125885     0.001354  \n",
       "75%       0.124591   263.723373   223.562462   -79.001957     0.001483  \n",
       "max       2.166107   408.259674   303.224304    13.463660     0.002354  \n",
       "\n",
       "[8 rows x 943 columns]"
      ]
     },
     "execution_count": 4,
     "metadata": {},
     "output_type": "execute_result"
    }
   ],
   "source": [
    "data.describe()"
   ]
  },
  {
   "cell_type": "code",
   "execution_count": 5,
   "metadata": {
    "colab": {
     "base_uri": "https://localhost:8080/"
    },
    "id": "H0iOmYH8xwrl",
    "outputId": "e37f5312-fca2-47e1-ee3f-9aaad2ed55d9"
   },
   "outputs": [
    {
     "data": {
      "text/plain": [
       "(1835, 944)"
      ]
     },
     "execution_count": 5,
     "metadata": {},
     "output_type": "execute_result"
    }
   ],
   "source": [
    "data.shape"
   ]
  },
  {
   "cell_type": "code",
   "execution_count": 6,
   "metadata": {},
   "outputs": [],
   "source": [
    "data['dist'] = np.linalg.norm(data.loc[:, [\"x378\",\"y378\"]].values, axis=1)\n",
    "features = data.drop([\"file_name\",\"pitch\",\"yaw\",\"roll\",\"h\",\"v\",\"t\",\"scale\",\"dist\"], axis=1)\n",
    "labels = data[[\"pitch\",\"yaw\",\"roll\"]]\n",
    "features.loc[:,:]=features.loc[:,:].div(data[\"dist\"],axis=0)"
   ]
  },
  {
   "cell_type": "code",
   "execution_count": 7,
   "metadata": {},
   "outputs": [
    {
     "data": {
      "text/html": [
       "<div>\n",
       "<style scoped>\n",
       "    .dataframe tbody tr th:only-of-type {\n",
       "        vertical-align: middle;\n",
       "    }\n",
       "\n",
       "    .dataframe tbody tr th {\n",
       "        vertical-align: top;\n",
       "    }\n",
       "\n",
       "    .dataframe thead th {\n",
       "        text-align: right;\n",
       "    }\n",
       "</style>\n",
       "<table border=\"1\" class=\"dataframe\">\n",
       "  <thead>\n",
       "    <tr style=\"text-align: right;\">\n",
       "      <th></th>\n",
       "      <th>x1</th>\n",
       "      <th>x2</th>\n",
       "      <th>x3</th>\n",
       "      <th>x4</th>\n",
       "      <th>x5</th>\n",
       "      <th>x6</th>\n",
       "      <th>x7</th>\n",
       "      <th>x8</th>\n",
       "      <th>x9</th>\n",
       "      <th>x10</th>\n",
       "      <th>...</th>\n",
       "      <th>y459</th>\n",
       "      <th>y460</th>\n",
       "      <th>y461</th>\n",
       "      <th>y462</th>\n",
       "      <th>y463</th>\n",
       "      <th>y464</th>\n",
       "      <th>y465</th>\n",
       "      <th>y466</th>\n",
       "      <th>y467</th>\n",
       "      <th>y468</th>\n",
       "    </tr>\n",
       "  </thead>\n",
       "  <tbody>\n",
       "    <tr>\n",
       "      <th>0</th>\n",
       "      <td>-0.018770</td>\n",
       "      <td>0.0</td>\n",
       "      <td>0.003223</td>\n",
       "      <td>-0.050133</td>\n",
       "      <td>0.007227</td>\n",
       "      <td>0.023517</td>\n",
       "      <td>0.074159</td>\n",
       "      <td>-0.664891</td>\n",
       "      <td>0.102951</td>\n",
       "      <td>0.113227</td>\n",
       "      <td>...</td>\n",
       "      <td>0.007298</td>\n",
       "      <td>-0.022670</td>\n",
       "      <td>-0.015901</td>\n",
       "      <td>0.024165</td>\n",
       "      <td>0.025085</td>\n",
       "      <td>-0.818875</td>\n",
       "      <td>-0.778211</td>\n",
       "      <td>-0.738173</td>\n",
       "      <td>-0.891979</td>\n",
       "      <td>-0.930814</td>\n",
       "    </tr>\n",
       "    <tr>\n",
       "      <th>1</th>\n",
       "      <td>0.126695</td>\n",
       "      <td>0.0</td>\n",
       "      <td>0.165063</td>\n",
       "      <td>0.097894</td>\n",
       "      <td>-0.007928</td>\n",
       "      <td>0.049714</td>\n",
       "      <td>0.245386</td>\n",
       "      <td>0.246494</td>\n",
       "      <td>0.297302</td>\n",
       "      <td>0.286536</td>\n",
       "      <td>...</td>\n",
       "      <td>0.039655</td>\n",
       "      <td>0.017532</td>\n",
       "      <td>0.090665</td>\n",
       "      <td>0.042388</td>\n",
       "      <td>0.065991</td>\n",
       "      <td>-0.446016</td>\n",
       "      <td>-0.421082</td>\n",
       "      <td>-0.404407</td>\n",
       "      <td>-0.481112</td>\n",
       "      <td>-0.506511</td>\n",
       "    </tr>\n",
       "    <tr>\n",
       "      <th>2</th>\n",
       "      <td>0.171641</td>\n",
       "      <td>0.0</td>\n",
       "      <td>0.099702</td>\n",
       "      <td>-0.125178</td>\n",
       "      <td>-0.038746</td>\n",
       "      <td>-0.061903</td>\n",
       "      <td>-0.090612</td>\n",
       "      <td>-0.538582</td>\n",
       "      <td>-0.159028</td>\n",
       "      <td>-0.206915</td>\n",
       "      <td>...</td>\n",
       "      <td>-0.029927</td>\n",
       "      <td>-0.070488</td>\n",
       "      <td>-0.107101</td>\n",
       "      <td>-0.009980</td>\n",
       "      <td>-0.008048</td>\n",
       "      <td>-0.763165</td>\n",
       "      <td>-0.715027</td>\n",
       "      <td>-0.674882</td>\n",
       "      <td>-0.989426</td>\n",
       "      <td>-1.044246</td>\n",
       "    </tr>\n",
       "    <tr>\n",
       "      <th>3</th>\n",
       "      <td>0.075672</td>\n",
       "      <td>0.0</td>\n",
       "      <td>0.030369</td>\n",
       "      <td>-0.109605</td>\n",
       "      <td>-0.019572</td>\n",
       "      <td>-0.039474</td>\n",
       "      <td>-0.079781</td>\n",
       "      <td>-0.582444</td>\n",
       "      <td>-0.104003</td>\n",
       "      <td>-0.124085</td>\n",
       "      <td>...</td>\n",
       "      <td>0.008730</td>\n",
       "      <td>-0.025872</td>\n",
       "      <td>0.009773</td>\n",
       "      <td>0.019899</td>\n",
       "      <td>0.038258</td>\n",
       "      <td>-0.531082</td>\n",
       "      <td>-0.501953</td>\n",
       "      <td>-0.484541</td>\n",
       "      <td>-0.657331</td>\n",
       "      <td>-0.675149</td>\n",
       "    </tr>\n",
       "    <tr>\n",
       "      <th>4</th>\n",
       "      <td>0.033997</td>\n",
       "      <td>0.0</td>\n",
       "      <td>0.026730</td>\n",
       "      <td>-0.053821</td>\n",
       "      <td>-0.004975</td>\n",
       "      <td>-0.001675</td>\n",
       "      <td>0.017491</td>\n",
       "      <td>-0.458897</td>\n",
       "      <td>0.020851</td>\n",
       "      <td>0.017586</td>\n",
       "      <td>...</td>\n",
       "      <td>0.031687</td>\n",
       "      <td>0.003566</td>\n",
       "      <td>0.070722</td>\n",
       "      <td>0.037475</td>\n",
       "      <td>0.060175</td>\n",
       "      <td>-0.424860</td>\n",
       "      <td>-0.409922</td>\n",
       "      <td>-0.403483</td>\n",
       "      <td>-0.472903</td>\n",
       "      <td>-0.491237</td>\n",
       "    </tr>\n",
       "  </tbody>\n",
       "</table>\n",
       "<p>5 rows × 936 columns</p>\n",
       "</div>"
      ],
      "text/plain": [
       "         x1   x2        x3        x4        x5        x6        x7        x8  \\\n",
       "0 -0.018770  0.0  0.003223 -0.050133  0.007227  0.023517  0.074159 -0.664891   \n",
       "1  0.126695  0.0  0.165063  0.097894 -0.007928  0.049714  0.245386  0.246494   \n",
       "2  0.171641  0.0  0.099702 -0.125178 -0.038746 -0.061903 -0.090612 -0.538582   \n",
       "3  0.075672  0.0  0.030369 -0.109605 -0.019572 -0.039474 -0.079781 -0.582444   \n",
       "4  0.033997  0.0  0.026730 -0.053821 -0.004975 -0.001675  0.017491 -0.458897   \n",
       "\n",
       "         x9       x10  ...      y459      y460      y461      y462      y463  \\\n",
       "0  0.102951  0.113227  ...  0.007298 -0.022670 -0.015901  0.024165  0.025085   \n",
       "1  0.297302  0.286536  ...  0.039655  0.017532  0.090665  0.042388  0.065991   \n",
       "2 -0.159028 -0.206915  ... -0.029927 -0.070488 -0.107101 -0.009980 -0.008048   \n",
       "3 -0.104003 -0.124085  ...  0.008730 -0.025872  0.009773  0.019899  0.038258   \n",
       "4  0.020851  0.017586  ...  0.031687  0.003566  0.070722  0.037475  0.060175   \n",
       "\n",
       "       y464      y465      y466      y467      y468  \n",
       "0 -0.818875 -0.778211 -0.738173 -0.891979 -0.930814  \n",
       "1 -0.446016 -0.421082 -0.404407 -0.481112 -0.506511  \n",
       "2 -0.763165 -0.715027 -0.674882 -0.989426 -1.044246  \n",
       "3 -0.531082 -0.501953 -0.484541 -0.657331 -0.675149  \n",
       "4 -0.424860 -0.409922 -0.403483 -0.472903 -0.491237  \n",
       "\n",
       "[5 rows x 936 columns]"
      ]
     },
     "execution_count": 7,
     "metadata": {},
     "output_type": "execute_result"
    }
   ],
   "source": [
    "features.head()"
   ]
  },
  {
   "cell_type": "code",
   "execution_count": 8,
   "metadata": {
    "colab": {
     "base_uri": "https://localhost:8080/",
     "height": 423
    },
    "id": "7YRfSZuvAqWu",
    "outputId": "949cf05d-7a05-4791-a929-9c4b0473b501"
   },
   "outputs": [
    {
     "data": {
      "text/html": [
       "<div>\n",
       "<style scoped>\n",
       "    .dataframe tbody tr th:only-of-type {\n",
       "        vertical-align: middle;\n",
       "    }\n",
       "\n",
       "    .dataframe tbody tr th {\n",
       "        vertical-align: top;\n",
       "    }\n",
       "\n",
       "    .dataframe thead th {\n",
       "        text-align: right;\n",
       "    }\n",
       "</style>\n",
       "<table border=\"1\" class=\"dataframe\">\n",
       "  <thead>\n",
       "    <tr style=\"text-align: right;\">\n",
       "      <th></th>\n",
       "      <th>count</th>\n",
       "      <th>mean</th>\n",
       "      <th>std</th>\n",
       "      <th>min</th>\n",
       "      <th>25%</th>\n",
       "      <th>50%</th>\n",
       "      <th>75%</th>\n",
       "      <th>max</th>\n",
       "    </tr>\n",
       "  </thead>\n",
       "  <tbody>\n",
       "    <tr>\n",
       "      <th>x1</th>\n",
       "      <td>1835.0</td>\n",
       "      <td>0.001185</td>\n",
       "      <td>0.119757</td>\n",
       "      <td>-0.379522</td>\n",
       "      <td>-0.084926</td>\n",
       "      <td>0.010698</td>\n",
       "      <td>0.089014</td>\n",
       "      <td>0.331561</td>\n",
       "    </tr>\n",
       "    <tr>\n",
       "      <th>x2</th>\n",
       "      <td>1835.0</td>\n",
       "      <td>0.000000</td>\n",
       "      <td>0.000000</td>\n",
       "      <td>0.000000</td>\n",
       "      <td>0.000000</td>\n",
       "      <td>0.000000</td>\n",
       "      <td>0.000000</td>\n",
       "      <td>0.000000</td>\n",
       "    </tr>\n",
       "    <tr>\n",
       "      <th>x3</th>\n",
       "      <td>1835.0</td>\n",
       "      <td>-0.000861</td>\n",
       "      <td>0.099901</td>\n",
       "      <td>-0.251522</td>\n",
       "      <td>-0.064886</td>\n",
       "      <td>0.005677</td>\n",
       "      <td>0.068807</td>\n",
       "      <td>0.212193</td>\n",
       "    </tr>\n",
       "    <tr>\n",
       "      <th>x4</th>\n",
       "      <td>1835.0</td>\n",
       "      <td>-0.067127</td>\n",
       "      <td>0.093170</td>\n",
       "      <td>-0.465573</td>\n",
       "      <td>-0.121822</td>\n",
       "      <td>-0.076112</td>\n",
       "      <td>-0.013850</td>\n",
       "      <td>0.292586</td>\n",
       "    </tr>\n",
       "    <tr>\n",
       "      <th>x5</th>\n",
       "      <td>1835.0</td>\n",
       "      <td>-0.000686</td>\n",
       "      <td>0.023626</td>\n",
       "      <td>-0.103228</td>\n",
       "      <td>-0.014454</td>\n",
       "      <td>-0.000738</td>\n",
       "      <td>0.012668</td>\n",
       "      <td>0.088774</td>\n",
       "    </tr>\n",
       "    <tr>\n",
       "      <th>...</th>\n",
       "      <td>...</td>\n",
       "      <td>...</td>\n",
       "      <td>...</td>\n",
       "      <td>...</td>\n",
       "      <td>...</td>\n",
       "      <td>...</td>\n",
       "      <td>...</td>\n",
       "      <td>...</td>\n",
       "    </tr>\n",
       "    <tr>\n",
       "      <th>y464</th>\n",
       "      <td>1835.0</td>\n",
       "      <td>-0.557230</td>\n",
       "      <td>0.182384</td>\n",
       "      <td>-1.279035</td>\n",
       "      <td>-0.663394</td>\n",
       "      <td>-0.552839</td>\n",
       "      <td>-0.451318</td>\n",
       "      <td>0.529086</td>\n",
       "    </tr>\n",
       "    <tr>\n",
       "      <th>y465</th>\n",
       "      <td>1835.0</td>\n",
       "      <td>-0.530395</td>\n",
       "      <td>0.170393</td>\n",
       "      <td>-1.203198</td>\n",
       "      <td>-0.627168</td>\n",
       "      <td>-0.524122</td>\n",
       "      <td>-0.432280</td>\n",
       "      <td>0.499690</td>\n",
       "    </tr>\n",
       "    <tr>\n",
       "      <th>y466</th>\n",
       "      <td>1835.0</td>\n",
       "      <td>-0.509411</td>\n",
       "      <td>0.158132</td>\n",
       "      <td>-1.127917</td>\n",
       "      <td>-0.599483</td>\n",
       "      <td>-0.503344</td>\n",
       "      <td>-0.419329</td>\n",
       "      <td>0.475479</td>\n",
       "    </tr>\n",
       "    <tr>\n",
       "      <th>y467</th>\n",
       "      <td>1835.0</td>\n",
       "      <td>-0.616663</td>\n",
       "      <td>0.249830</td>\n",
       "      <td>-1.724436</td>\n",
       "      <td>-0.773634</td>\n",
       "      <td>-0.614372</td>\n",
       "      <td>-0.467946</td>\n",
       "      <td>0.624933</td>\n",
       "    </tr>\n",
       "    <tr>\n",
       "      <th>y468</th>\n",
       "      <td>1835.0</td>\n",
       "      <td>-0.652736</td>\n",
       "      <td>0.259528</td>\n",
       "      <td>-1.800230</td>\n",
       "      <td>-0.816906</td>\n",
       "      <td>-0.651438</td>\n",
       "      <td>-0.499980</td>\n",
       "      <td>0.682973</td>\n",
       "    </tr>\n",
       "  </tbody>\n",
       "</table>\n",
       "<p>936 rows × 8 columns</p>\n",
       "</div>"
      ],
      "text/plain": [
       "       count      mean       std       min       25%       50%       75%  \\\n",
       "x1    1835.0  0.001185  0.119757 -0.379522 -0.084926  0.010698  0.089014   \n",
       "x2    1835.0  0.000000  0.000000  0.000000  0.000000  0.000000  0.000000   \n",
       "x3    1835.0 -0.000861  0.099901 -0.251522 -0.064886  0.005677  0.068807   \n",
       "x4    1835.0 -0.067127  0.093170 -0.465573 -0.121822 -0.076112 -0.013850   \n",
       "x5    1835.0 -0.000686  0.023626 -0.103228 -0.014454 -0.000738  0.012668   \n",
       "...      ...       ...       ...       ...       ...       ...       ...   \n",
       "y464  1835.0 -0.557230  0.182384 -1.279035 -0.663394 -0.552839 -0.451318   \n",
       "y465  1835.0 -0.530395  0.170393 -1.203198 -0.627168 -0.524122 -0.432280   \n",
       "y466  1835.0 -0.509411  0.158132 -1.127917 -0.599483 -0.503344 -0.419329   \n",
       "y467  1835.0 -0.616663  0.249830 -1.724436 -0.773634 -0.614372 -0.467946   \n",
       "y468  1835.0 -0.652736  0.259528 -1.800230 -0.816906 -0.651438 -0.499980   \n",
       "\n",
       "           max  \n",
       "x1    0.331561  \n",
       "x2    0.000000  \n",
       "x3    0.212193  \n",
       "x4    0.292586  \n",
       "x5    0.088774  \n",
       "...        ...  \n",
       "y464  0.529086  \n",
       "y465  0.499690  \n",
       "y466  0.475479  \n",
       "y467  0.624933  \n",
       "y468  0.682973  \n",
       "\n",
       "[936 rows x 8 columns]"
      ]
     },
     "execution_count": 8,
     "metadata": {},
     "output_type": "execute_result"
    }
   ],
   "source": [
    "features.describe().T"
   ]
  },
  {
   "cell_type": "markdown",
   "metadata": {
    "id": "aI8L0LyYN6vw"
   },
   "source": [
    "Explore different criteria of scaling and test pca effect\n",
    "\n",
    "\n",
    "*   based on exploration choosed minmax and pca of 6 componnent\n",
    "\n",
    "\n"
   ]
  },
  {
   "cell_type": "code",
   "execution_count": 9,
   "metadata": {
    "colab": {
     "base_uri": "https://localhost:8080/"
    },
    "id": "rsfrnkZReCRx",
    "outputId": "0469ba63-3025-4518-cbfd-9fef5999a251"
   },
   "outputs": [
    {
     "data": {
      "text/plain": [
       "(1835, 5)"
      ]
     },
     "execution_count": 9,
     "metadata": {},
     "output_type": "execute_result"
    }
   ],
   "source": [
    "PCA_t=PCA(n_components=0.98)\n",
    "features1=PCA_t.fit_transform(features)\n",
    "features1.shape"
   ]
  },
  {
   "cell_type": "code",
   "execution_count": 10,
   "metadata": {
    "colab": {
     "base_uri": "https://localhost:8080/",
     "height": 320
    },
    "id": "5_iUJb724TeP",
    "outputId": "67aac203-115e-4627-b04a-aba267f28274"
   },
   "outputs": [
    {
     "data": {
      "image/png": "[encoded data removed]",
      "text/plain": [
       "<Figure size 720x360 with 6 Axes>"
      ]
     },
     "metadata": {
      "needs_background": "light"
     },
     "output_type": "display_data"
    }
   ],
   "source": [
    "fig = plt.figure(figsize=(10,5))\n",
    "for i in  range(6):\n",
    "    ax1 = fig.add_subplot(2,3,i+1)\n",
    "    ax1.hist(features1[i])\n",
    "  "
   ]
  },
  {
   "cell_type": "code",
   "execution_count": 11,
   "metadata": {
    "id": "N_TVf_jx0dKn"
   },
   "outputs": [],
   "source": [
    "features2= RobustScaler().fit_transform(features)\n",
    "PCA1=PCA(n_components=0.98)\n",
    "features2=PCA1.fit_transform(features2)"
   ]
  },
  {
   "cell_type": "code",
   "execution_count": 12,
   "metadata": {
    "colab": {
     "base_uri": "https://localhost:8080/",
     "height": 320
    },
    "id": "RqRdztSLutlI",
    "outputId": "eb07309c-90ae-4abc-e6a8-887ea539b450"
   },
   "outputs": [
    {
     "data": {
      "image/png": "[encoded data removed]",
      "text/plain": [
       "<Figure size 720x360 with 6 Axes>"
      ]
     },
     "metadata": {
      "needs_background": "light"
     },
     "output_type": "display_data"
    }
   ],
   "source": [
    "fig = plt.figure(figsize=(10,5))\n",
    "for i in  range(6):\n",
    "    ax1 = fig.add_subplot(2,3,i+1)\n",
    "    ax1.hist(features2[i])\n",
    "  "
   ]
  },
  {
   "cell_type": "code",
   "execution_count": 13,
   "metadata": {
    "colab": {
     "base_uri": "https://localhost:8080/",
     "height": 300
    },
    "id": "SxcwUiCNsVY5",
    "outputId": "f8a1e6f2-7efc-4e1e-e9d6-05b53738ac0d"
   },
   "outputs": [
    {
     "data": {
      "text/html": [
       "<div>\n",
       "<style scoped>\n",
       "    .dataframe tbody tr th:only-of-type {\n",
       "        vertical-align: middle;\n",
       "    }\n",
       "\n",
       "    .dataframe tbody tr th {\n",
       "        vertical-align: top;\n",
       "    }\n",
       "\n",
       "    .dataframe thead th {\n",
       "        text-align: right;\n",
       "    }\n",
       "</style>\n",
       "<table border=\"1\" class=\"dataframe\">\n",
       "  <thead>\n",
       "    <tr style=\"text-align: right;\">\n",
       "      <th></th>\n",
       "      <th>0</th>\n",
       "      <th>1</th>\n",
       "      <th>2</th>\n",
       "      <th>3</th>\n",
       "      <th>4</th>\n",
       "      <th>5</th>\n",
       "    </tr>\n",
       "  </thead>\n",
       "  <tbody>\n",
       "    <tr>\n",
       "      <th>count</th>\n",
       "      <td>1.835000e+03</td>\n",
       "      <td>1.835000e+03</td>\n",
       "      <td>1.835000e+03</td>\n",
       "      <td>1.835000e+03</td>\n",
       "      <td>1.835000e+03</td>\n",
       "      <td>1.835000e+03</td>\n",
       "    </tr>\n",
       "    <tr>\n",
       "      <th>mean</th>\n",
       "      <td>7.042505e-17</td>\n",
       "      <td>7.671732e-17</td>\n",
       "      <td>-6.776293e-18</td>\n",
       "      <td>4.056095e-16</td>\n",
       "      <td>-2.438255e-16</td>\n",
       "      <td>3.956871e-17</td>\n",
       "    </tr>\n",
       "    <tr>\n",
       "      <th>std</th>\n",
       "      <td>1.514823e+01</td>\n",
       "      <td>1.330112e+01</td>\n",
       "      <td>1.251793e+01</td>\n",
       "      <td>9.274665e+00</td>\n",
       "      <td>3.812956e+00</td>\n",
       "      <td>2.736992e+00</td>\n",
       "    </tr>\n",
       "    <tr>\n",
       "      <th>min</th>\n",
       "      <td>-5.553786e+01</td>\n",
       "      <td>-5.148040e+01</td>\n",
       "      <td>-3.801349e+01</td>\n",
       "      <td>-1.895614e+01</td>\n",
       "      <td>-1.054763e+01</td>\n",
       "      <td>-1.207126e+01</td>\n",
       "    </tr>\n",
       "    <tr>\n",
       "      <th>25%</th>\n",
       "      <td>-1.016432e+01</td>\n",
       "      <td>-8.683010e+00</td>\n",
       "      <td>-9.302480e+00</td>\n",
       "      <td>-5.053045e+00</td>\n",
       "      <td>-2.493613e+00</td>\n",
       "      <td>-1.943646e+00</td>\n",
       "    </tr>\n",
       "    <tr>\n",
       "      <th>50%</th>\n",
       "      <td>-4.070788e-01</td>\n",
       "      <td>5.322478e-01</td>\n",
       "      <td>-1.353488e+00</td>\n",
       "      <td>-2.099976e+00</td>\n",
       "      <td>1.893784e-01</td>\n",
       "      <td>-5.633946e-01</td>\n",
       "    </tr>\n",
       "    <tr>\n",
       "      <th>75%</th>\n",
       "      <td>8.313136e+00</td>\n",
       "      <td>8.816257e+00</td>\n",
       "      <td>7.680349e+00</td>\n",
       "      <td>2.260531e+00</td>\n",
       "      <td>2.575175e+00</td>\n",
       "      <td>1.458805e+00</td>\n",
       "    </tr>\n",
       "    <tr>\n",
       "      <th>max</th>\n",
       "      <td>5.834228e+01</td>\n",
       "      <td>7.384688e+01</td>\n",
       "      <td>5.947610e+01</td>\n",
       "      <td>1.279483e+02</td>\n",
       "      <td>1.317398e+01</td>\n",
       "      <td>1.314588e+01</td>\n",
       "    </tr>\n",
       "  </tbody>\n",
       "</table>\n",
       "</div>"
      ],
      "text/plain": [
       "                  0             1             2             3             4  \\\n",
       "count  1.835000e+03  1.835000e+03  1.835000e+03  1.835000e+03  1.835000e+03   \n",
       "mean   7.042505e-17  7.671732e-17 -6.776293e-18  4.056095e-16 -2.438255e-16   \n",
       "std    1.514823e+01  1.330112e+01  1.251793e+01  9.274665e+00  3.812956e+00   \n",
       "min   -5.553786e+01 -5.148040e+01 -3.801349e+01 -1.895614e+01 -1.054763e+01   \n",
       "25%   -1.016432e+01 -8.683010e+00 -9.302480e+00 -5.053045e+00 -2.493613e+00   \n",
       "50%   -4.070788e-01  5.322478e-01 -1.353488e+00 -2.099976e+00  1.893784e-01   \n",
       "75%    8.313136e+00  8.816257e+00  7.680349e+00  2.260531e+00  2.575175e+00   \n",
       "max    5.834228e+01  7.384688e+01  5.947610e+01  1.279483e+02  1.317398e+01   \n",
       "\n",
       "                  5  \n",
       "count  1.835000e+03  \n",
       "mean   3.956871e-17  \n",
       "std    2.736992e+00  \n",
       "min   -1.207126e+01  \n",
       "25%   -1.943646e+00  \n",
       "50%   -5.633946e-01  \n",
       "75%    1.458805e+00  \n",
       "max    1.314588e+01  "
      ]
     },
     "execution_count": 13,
     "metadata": {},
     "output_type": "execute_result"
    }
   ],
   "source": [
    "pd.DataFrame(features2).describe()"
   ]
  },
  {
   "cell_type": "code",
   "execution_count": 9,
   "metadata": {
    "colab": {
     "base_uri": "https://localhost:8080/",
     "height": 320
    },
    "id": "-jQYzAtev2N6",
    "outputId": "ef459249-77d4-4736-aae0-f40561e1cecc"
   },
   "outputs": [
    {
     "data": {
      "image/png": "[encoded data removed]",
      "text/plain": [
       "<Figure size 720x360 with 6 Axes>"
      ]
     },
     "metadata": {
      "needs_background": "light"
     },
     "output_type": "display_data"
    }
   ],
   "source": [
    "features3= MinMaxScaler().fit_transform(features)\n",
    "PCA1=PCA(n_components=0.98)\n",
    "features3=PCA1.fit_transform(features3)\n",
    "fig = plt.figure(figsize=(10,5))\n",
    "for i in  range(6):\n",
    "    ax1 = fig.add_subplot(2,3,i+1)\n",
    "    ax1.hist(features3[i])\n",
    "  "
   ]
  },
  {
   "cell_type": "code",
   "execution_count": null,
   "metadata": {},
   "outputs": [],
   "source": [
    "scaller= MinMaxScaler()\n",
    "scaller.fit(features)\n",
    "PCA1=PCA(n_components=0.98)\n",
    "PCA1.fit(features3)"
   ]
  },
  {
   "cell_type": "code",
   "execution_count": 15,
   "metadata": {
    "colab": {
     "base_uri": "https://localhost:8080/",
     "height": 320
    },
    "id": "USbmKD9BwJKA",
    "outputId": "19bc7f6d-b958-4876-ee77-8686cec55d90"
   },
   "outputs": [
    {
     "data": {
      "image/png": "[encoded data removed]",
      "text/plain": [
       "<Figure size 720x360 with 6 Axes>"
      ]
     },
     "metadata": {
      "needs_background": "light"
     },
     "output_type": "display_data"
    }
   ],
   "source": [
    "features4= StandardScaler().fit_transform(features)\n",
    "PCA1=PCA(n_components=0.98)\n",
    "features4=PCA1.fit_transform(features4)\n",
    "fig = plt.figure(figsize=(10,5))\n",
    "for i in  range(6):\n",
    "    ax1 = fig.add_subplot(2,3,i+1)\n",
    "    ax1.hist(features4[i])\n",
    "  "
   ]
  },
  {
   "cell_type": "code",
   "execution_count": 16,
   "metadata": {
    "colab": {
     "base_uri": "https://localhost:8080/"
    },
    "id": "dOyPhYDpSfeM",
    "outputId": "521c9c5d-a8c4-4ead-b562-6d296c80afec"
   },
   "outputs": [
    {
     "data": {
      "text/plain": [
       "(1835, 6)"
      ]
     },
     "execution_count": 16,
     "metadata": {},
     "output_type": "execute_result"
    }
   ],
   "source": [
    "features4.shape"
   ]
  },
  {
   "cell_type": "code",
   "execution_count": 17,
   "metadata": {
    "colab": {
     "base_uri": "https://localhost:8080/"
    },
    "id": "7N6k5rzPSjHb",
    "outputId": "20305b40-c835-4b95-f87a-8b95320e9311"
   },
   "outputs": [
    {
     "data": {
      "text/plain": [
       "array([33.25606964,  6.29268381,  3.62088679, -2.16549333, -7.75317822,\n",
       "       -0.062082  ])"
      ]
     },
     "execution_count": 17,
     "metadata": {},
     "output_type": "execute_result"
    }
   ],
   "source": [
    "features4[1]"
   ]
  },
  {
   "cell_type": "code",
   "execution_count": 18,
   "metadata": {
    "colab": {
     "base_uri": "https://localhost:8080/",
     "height": 143
    },
    "id": "umYee0OOMkmw",
    "outputId": "f492c3da-b631-45bd-c745-6621b947c3cf"
   },
   "outputs": [
    {
     "data": {
      "text/html": [
       "<div>\n",
       "<style scoped>\n",
       "    .dataframe tbody tr th:only-of-type {\n",
       "        vertical-align: middle;\n",
       "    }\n",
       "\n",
       "    .dataframe tbody tr th {\n",
       "        vertical-align: top;\n",
       "    }\n",
       "\n",
       "    .dataframe thead th {\n",
       "        text-align: right;\n",
       "    }\n",
       "</style>\n",
       "<table border=\"1\" class=\"dataframe\">\n",
       "  <thead>\n",
       "    <tr style=\"text-align: right;\">\n",
       "      <th></th>\n",
       "      <th>count</th>\n",
       "      <th>mean</th>\n",
       "      <th>std</th>\n",
       "      <th>min</th>\n",
       "      <th>25%</th>\n",
       "      <th>50%</th>\n",
       "      <th>75%</th>\n",
       "      <th>max</th>\n",
       "    </tr>\n",
       "  </thead>\n",
       "  <tbody>\n",
       "    <tr>\n",
       "      <th>pitch</th>\n",
       "      <td>1835.0</td>\n",
       "      <td>-0.094108</td>\n",
       "      <td>0.552639</td>\n",
       "      <td>-12.457202</td>\n",
       "      <td>-0.246061</td>\n",
       "      <td>-0.123066</td>\n",
       "      <td>0.031996</td>\n",
       "      <td>15.598820</td>\n",
       "    </tr>\n",
       "    <tr>\n",
       "      <th>yaw</th>\n",
       "      <td>1835.0</td>\n",
       "      <td>0.014334</td>\n",
       "      <td>0.578158</td>\n",
       "      <td>-6.130066</td>\n",
       "      <td>-0.254039</td>\n",
       "      <td>0.020001</td>\n",
       "      <td>0.302307</td>\n",
       "      <td>3.277500</td>\n",
       "    </tr>\n",
       "    <tr>\n",
       "      <th>roll</th>\n",
       "      <td>1835.0</td>\n",
       "      <td>-0.034242</td>\n",
       "      <td>0.652992</td>\n",
       "      <td>-16.969362</td>\n",
       "      <td>-0.159940</td>\n",
       "      <td>-0.016562</td>\n",
       "      <td>0.124591</td>\n",
       "      <td>2.166107</td>\n",
       "    </tr>\n",
       "  </tbody>\n",
       "</table>\n",
       "</div>"
      ],
      "text/plain": [
       "        count      mean       std        min       25%       50%       75%  \\\n",
       "pitch  1835.0 -0.094108  0.552639 -12.457202 -0.246061 -0.123066  0.031996   \n",
       "yaw    1835.0  0.014334  0.578158  -6.130066 -0.254039  0.020001  0.302307   \n",
       "roll   1835.0 -0.034242  0.652992 -16.969362 -0.159940 -0.016562  0.124591   \n",
       "\n",
       "             max  \n",
       "pitch  15.598820  \n",
       "yaw     3.277500  \n",
       "roll    2.166107  "
      ]
     },
     "execution_count": 18,
     "metadata": {},
     "output_type": "execute_result"
    }
   ],
   "source": [
    "labels.describe().T"
   ]
  },
  {
   "cell_type": "code",
   "execution_count": 19,
   "metadata": {
    "colab": {
     "base_uri": "https://localhost:8080/",
     "height": 213
    },
    "id": "7rxEgV-1fkp6",
    "outputId": "4428c77f-6f0c-440f-b7e5-8afe2df3b154"
   },
   "outputs": [
    {
     "data": {
      "image/png": "[encoded data removed]",
      "text/plain": [
       "<Figure size 1080x216 with 3 Axes>"
      ]
     },
     "metadata": {
      "needs_background": "light"
     },
     "output_type": "display_data"
    }
   ],
   "source": [
    "fig = plt.figure(figsize=(15,3))\n",
    "i=0\n",
    "for col in  labels.columns:\n",
    "    ax1 = fig.add_subplot(1,3,i+1)\n",
    "    ax1.hist(labels[col])\n",
    "    i=i+1"
   ]
  },
  {
   "cell_type": "markdown",
   "metadata": {},
   "source": [
    "# modelling"
   ]
  },
  {
   "cell_type": "code",
   "execution_count": 10,
   "metadata": {
    "id": "p6v3xTBvwirV"
   },
   "outputs": [],
   "source": [
    "features=features3"
   ]
  },
  {
   "cell_type": "code",
   "execution_count": 11,
   "metadata": {},
   "outputs": [
    {
     "data": {
      "text/plain": [
       "(1835, 5)"
      ]
     },
     "execution_count": 11,
     "metadata": {},
     "output_type": "execute_result"
    }
   ],
   "source": [
    "features.shape"
   ]
  },
  {
   "cell_type": "markdown",
   "metadata": {
    "id": "q_lfNCDgOdT6"
   },
   "source": [
    "Explore different models"
   ]
  },
  {
   "cell_type": "code",
   "execution_count": 24,
   "metadata": {
    "id": "oZztA8bfefrv"
   },
   "outputs": [],
   "source": [
    "# remark: we fix random_state the end, to make sure we always get the same results\n",
    "features_train, features_validation, labels_train, labels_validation = train_test_split(\n",
    "    features, labels, test_size=0.2)"
   ]
  },
  {
   "cell_type": "code",
   "execution_count": 13,
   "metadata": {
    "colab": {
     "base_uri": "https://localhost:8080/"
    },
    "id": "GJcH8jYbeh2y",
    "outputId": "23cca846-4b64-49a4-dc4e-6c00aaf1b928"
   },
   "outputs": [
    {
     "name": "stdout",
     "output_type": "stream",
     "text": [
      "1468\n",
      "367\n",
      "1468\n",
      "367\n"
     ]
    }
   ],
   "source": [
    "print(len(features_train))\n",
    "print(len(features_validation))\n",
    "print(len(labels_train))\n",
    "print(len(labels_validation))"
   ]
  },
  {
   "cell_type": "code",
   "execution_count": null,
   "metadata": {
    "colab": {
     "base_uri": "https://localhost:8080/"
    },
    "id": "cll70WSjyQdP",
    "outputId": "556ce3d3-0453-40dc-a26d-71c12337e95a"
   },
   "outputs": [],
   "source": []
  },
  {
   "cell_type": "markdown",
   "metadata": {},
   "source": [
    "## yaw model exploration"
   ]
  },
  {
   "cell_type": "code",
   "execution_count": 14,
   "metadata": {},
   "outputs": [
    {
     "name": "stdout",
     "output_type": "stream",
     "text": [
      "linear regression trainiing yaw 0.8115930522973303\n",
      "linrear regression: 0.8360749330174037\n"
     ]
    }
   ],
   "source": [
    "reg_yaw =linear_model.LinearRegression()\n",
    "reg_yaw.fit(features_train, labels_train[\"yaw\"])\n",
    "print(\"linear regression trainiing yaw\",reg_yaw.score(features_train, labels_train[\"yaw\"]))\n",
    "print(\"linrear regression:\", reg_yaw.score(features_validation, labels_validation[\"yaw\"]))"
   ]
  },
  {
   "cell_type": "code",
   "execution_count": 15,
   "metadata": {},
   "outputs": [
    {
     "name": "stdout",
     "output_type": "stream",
     "text": [
      "random forest trainiing yaw 0.9655857633836787\n",
      "random regression: 0.8497392297635553\n"
     ]
    }
   ],
   "source": [
    "rf_yaw =RandomForestRegressor(random_state=42)\n",
    "rf_yaw.fit(features_train, labels_train[\"yaw\"])\n",
    "print(\"random forest trainiing yaw\",rf_yaw.score(features_train, labels_train[\"yaw\"]))\n",
    "print(\"random regression:\", rf_yaw.score(features_validation, labels_validation[\"yaw\"]))"
   ]
  },
  {
   "cell_type": "code",
   "execution_count": 16,
   "metadata": {},
   "outputs": [
    {
     "name": "stdout",
     "output_type": "stream",
     "text": [
      "gb trainiing yaw 0.9728094189365268\n",
      "gb regression: 0.8694254528438601\n"
     ]
    }
   ],
   "source": [
    "gb_yaw =GradientBoostingRegressor(random_state=42)\n",
    "gb_yaw.fit(features_train, labels_train[\"yaw\"])\n",
    "print(\"gb trainiing yaw\",gb_yaw.score(features_train, labels_train[\"yaw\"]))\n",
    "print(\"gb regression:\", gb_yaw.score(features_validation, labels_validation[\"yaw\"]))"
   ]
  },
  {
   "cell_type": "code",
   "execution_count": 17,
   "metadata": {},
   "outputs": [
    {
     "name": "stdout",
     "output_type": "stream",
     "text": [
      "svr trainiing yaw 0.869097172457943\n",
      "svr regression: 0.8835788920810984\n"
     ]
    }
   ],
   "source": [
    "svr_yaw =SVR()\n",
    "svr_yaw.fit(features_train, labels_train[\"yaw\"])\n",
    "print(\"svr trainiing yaw\",svr_yaw.score(features_train, labels_train[\"yaw\"]))\n",
    "print(\"svr regression:\", svr_yaw.score(features_validation, labels_validation[\"yaw\"]))"
   ]
  },
  {
   "cell_type": "code",
   "execution_count": 27,
   "metadata": {},
   "outputs": [
    {
     "name": "stdout",
     "output_type": "stream",
     "text": [
      "xgb trainiing pitch 0.9994346621904855\n",
      "xgb regression: 0.8806446382329454\n"
     ]
    }
   ],
   "source": [
    "xgb_yaw = xg.XGBRegressor()\n",
    "xgb_yaw.fit(features_train, labels_train[\"yaw\"])\n",
    "print(\"xgb trainiing pitch\",xgb_yaw.score(features_train, labels_train[\"yaw\"]))\n",
    "print(\"xgb regression:\", xgb_yaw.score(features_validation, labels_validation[\"yaw\"]))\n"
   ]
  },
  {
   "cell_type": "markdown",
   "metadata": {},
   "source": [
    "random forest regressor for yaw !!"
   ]
  },
  {
   "cell_type": "markdown",
   "metadata": {},
   "source": [
    "## pitch model exploration"
   ]
  },
  {
   "cell_type": "code",
   "execution_count": 26,
   "metadata": {},
   "outputs": [
    {
     "name": "stdout",
     "output_type": "stream",
     "text": [
      "linear regression trainiing pitch 0.13847064013197463\n",
      "linrear regression: 0.6300713720878028\n"
     ]
    }
   ],
   "source": [
    "reg_pitch =linear_model.LinearRegression()\n",
    "reg_pitch.fit(features_train, labels_train[\"pitch\"])\n",
    "print(\"linear regression trainiing pitch\",reg_pitch.score(features_train, labels_train[\"pitch\"]))\n",
    "print(\"linrear regression:\", reg_pitch.score(features_validation, labels_validation[\"pitch\"]))"
   ]
  },
  {
   "cell_type": "code",
   "execution_count": 27,
   "metadata": {},
   "outputs": [
    {
     "name": "stdout",
     "output_type": "stream",
     "text": [
      "ridge linear regression trainiing pitch 0.1384705873535652\n",
      "ridge linrear regression: 0.630074302644266\n"
     ]
    }
   ],
   "source": [
    "rid_pitch =Ridge()\n",
    "rid_pitch.fit(features_train, labels_train[\"pitch\"])\n",
    "print(\"ridge linear regression trainiing pitch\",rid_pitch.score(features_train, labels_train[\"pitch\"]))\n",
    "print(\"ridge linrear regression:\", rid_pitch.score(features_validation, labels_validation[\"pitch\"]))"
   ]
  },
  {
   "cell_type": "code",
   "execution_count": 25,
   "metadata": {},
   "outputs": [
    {
     "name": "stdout",
     "output_type": "stream",
     "text": [
      "random forest trainiing yaw 0.7307495698714456\n",
      "random regression: 0.6345977832298962\n"
     ]
    }
   ],
   "source": [
    "rf_pitch =RandomForestRegressor(random_state=42)\n",
    "rf_pitch.fit(features_train, labels_train[\"pitch\"])\n",
    "print(\"random forest trainiing yaw\",rf_pitch.score(features_train, labels_train[\"pitch\"]))\n",
    "print(\"random regression:\", rf_pitch.score(features_validation, labels_validation[\"pitch\"]))"
   ]
  },
  {
   "cell_type": "code",
   "execution_count": 28,
   "metadata": {},
   "outputs": [
    {
     "name": "stdout",
     "output_type": "stream",
     "text": [
      "gb trainiing pitch 0.9566043940705743\n",
      "gb regression: 0.6598663514544144\n"
     ]
    }
   ],
   "source": [
    "gb_pitch =GradientBoostingRegressor(random_state=42)\n",
    "gb_pitch.fit(features_train, labels_train[\"pitch\"])\n",
    "print(\"gb trainiing pitch\",gb_pitch.score(features_train, labels_train[\"pitch\"]))\n",
    "print(\"gb regression:\", gb_pitch.score(features_validation, labels_validation[\"pitch\"]))"
   ]
  },
  {
   "cell_type": "code",
   "execution_count": 29,
   "metadata": {},
   "outputs": [
    {
     "name": "stdout",
     "output_type": "stream",
     "text": [
      "svr trainiing pitch -0.772454518241509\n",
      "svr regression: -3.7451847798798523\n"
     ]
    }
   ],
   "source": [
    "svr_pitch =SVR()\n",
    "svr_pitch.fit(features_train, labels_train[\"pitch\"])\n",
    "print(\"svr trainiing pitch\",svr_yaw.score(features_train, labels_train[\"pitch\"]))\n",
    "print(\"svr regression:\", svr_yaw.score(features_validation, labels_validation[\"pitch\"]))"
   ]
  },
  {
   "cell_type": "code",
   "execution_count": 30,
   "metadata": {},
   "outputs": [
    {
     "name": "stdout",
     "output_type": "stream",
     "text": [
      "xgb trainiing pitch 0.9967865853911746\n",
      "xgb regression: 0.5389163878224996\n"
     ]
    }
   ],
   "source": [
    "xgb_pitch = xg.XGBRegressor()\n",
    "xgb_pitch.fit(features_train, labels_train[\"pitch\"])\n",
    "print(\"xgb trainiing pitch\",xgb_pitch.score(features_train, labels_train[\"pitch\"]))\n",
    "print(\"xgb regression:\", xgb_pitch.score(features_validation, labels_validation[\"pitch\"]))"
   ]
  },
  {
   "cell_type": "markdown",
   "metadata": {},
   "source": [
    "gradient MODEL FOR PITCH"
   ]
  },
  {
   "cell_type": "markdown",
   "metadata": {},
   "source": [
    "## roll model exploration"
   ]
  },
  {
   "cell_type": "code",
   "execution_count": 31,
   "metadata": {},
   "outputs": [
    {
     "name": "stdout",
     "output_type": "stream",
     "text": [
      "linear regression trainiing roll 0.27799046444383124\n",
      "linrear regression: 0.6768938754796932\n"
     ]
    }
   ],
   "source": [
    "reg_roll =linear_model.LinearRegression()\n",
    "reg_roll.fit(features_train, labels_train[\"roll\"])\n",
    "print(\"linear regression trainiing roll\",reg_roll.score(features_train, labels_train[\"roll\"]))\n",
    "print(\"linrear regression:\", reg_roll.score(features_validation, labels_validation[\"roll\"]))"
   ]
  },
  {
   "cell_type": "code",
   "execution_count": 32,
   "metadata": {},
   "outputs": [
    {
     "name": "stdout",
     "output_type": "stream",
     "text": [
      "random forest trainiing roll 0.27799046444383124\n",
      "random forset regression: 0.6768938754796932\n"
     ]
    }
   ],
   "source": [
    "rf_roll =RandomForestRegressor(random_state=42)\n",
    "rf_roll.fit(features_train, labels_train[\"roll\"])\n",
    "print(\"random forest trainiing roll\",reg_roll.score(features_train, labels_train[\"roll\"]))\n",
    "print(\"random forset regression:\", reg_roll.score(features_validation, labels_validation[\"roll\"]))"
   ]
  },
  {
   "cell_type": "code",
   "execution_count": 33,
   "metadata": {},
   "outputs": [
    {
     "name": "stdout",
     "output_type": "stream",
     "text": [
      "gb trainiing roll 0.9762472078331068\n",
      "gb regression: 0.7875040038108458\n"
     ]
    }
   ],
   "source": [
    "gb_roll =GradientBoostingRegressor(random_state=42)\n",
    "gb_roll.fit(features_train, labels_train[\"roll\"])\n",
    "print(\"gb trainiing roll\",gb_roll.score(features_train, labels_train[\"roll\"]))\n",
    "print(\"gb regression:\", gb_roll.score(features_validation, labels_validation[\"roll\"]))"
   ]
  },
  {
   "cell_type": "code",
   "execution_count": 34,
   "metadata": {},
   "outputs": [
    {
     "name": "stdout",
     "output_type": "stream",
     "text": [
      "svr trainiing roll 0.3177769853453153\n",
      "svr regression: 0.8558988949554935\n"
     ]
    }
   ],
   "source": [
    "svr_roll =SVR()\n",
    "svr_roll.fit(features_train, labels_train[\"roll\"])\n",
    "print(\"svr trainiing roll\",svr_roll.score(features_train, labels_train[\"roll\"]))\n",
    "print(\"svr regression:\", svr_roll.score(features_validation, labels_validation[\"roll\"]))"
   ]
  },
  {
   "cell_type": "code",
   "execution_count": 35,
   "metadata": {},
   "outputs": [
    {
     "name": "stdout",
     "output_type": "stream",
     "text": [
      "xgb trainiing roll 0.9994295584184425\n",
      "xgb regression: 0.8350190217889696\n"
     ]
    }
   ],
   "source": [
    "xgb_roll = xg.XGBRegressor()\n",
    "xgb_roll.fit(features_train, labels_train[\"roll\"])\n",
    "print(\"xgb trainiing roll\",xgb_roll.score(features_train, labels_train[\"roll\"]))\n",
    "print(\"xgb regression:\", xgb_roll.score(features_validation, labels_validation[\"roll\"]))"
   ]
  },
  {
   "cell_type": "markdown",
   "metadata": {},
   "source": [
    "XGBRegressor for roll OR GB!!"
   ]
  },
  {
   "cell_type": "markdown",
   "metadata": {},
   "source": [
    "## MULTIOUTPUT Regressor Exploration"
   ]
  },
  {
   "cell_type": "code",
   "execution_count": 36,
   "metadata": {},
   "outputs": [
    {
     "name": "stdout",
     "output_type": "stream",
     "text": [
      "0.40433232570624966\n",
      "linrear regression: 0.7364657953468047\n"
     ]
    }
   ],
   "source": [
    "reg_model =MultiOutputRegressor( linear_model.LinearRegression())\n",
    "reg_model.fit(features_train, labels_train)\n",
    "print(reg_model.score(features_train, labels_train))\n",
    "print(\"linrear regression:\", reg_model.score(features_validation, labels_validation))"
   ]
  },
  {
   "cell_type": "code",
   "execution_count": 37,
   "metadata": {
    "colab": {
     "base_uri": "https://localhost:8080/"
    },
    "id": "tXhQ07pKxv6-",
    "outputId": "ec75ec5e-95e5-43e2-ef16-171cc455fb4f"
   },
   "outputs": [
    {
     "name": "stdout",
     "output_type": "stream",
     "text": [
      "0.4043322947360366\n",
      "ridge regression: 0.7365046067514319\n"
     ]
    }
   ],
   "source": [
    "ridge_model = MultiOutputRegressor(Ridge(random_state=42))\n",
    "ridge_model.fit(features_train, labels_train)\n",
    "print(ridge_model.score(features_train, labels_train))\n",
    "print(\"ridge regression:\", ridge_model.score(features_validation, labels_validation))"
   ]
  },
  {
   "cell_type": "code",
   "execution_count": 38,
   "metadata": {
    "colab": {
     "base_uri": "https://localhost:8080/"
    },
    "id": "yzyf8MBN15TT",
    "outputId": "6f512b55-98a8-4abf-dc5c-c81a26a479b8"
   },
   "outputs": [
    {
     "name": "stdout",
     "output_type": "stream",
     "text": [
      "0.8557508554864999\n",
      "0.8074292595882961\n"
     ]
    }
   ],
   "source": [
    "rf = MultiOutputRegressor(RandomForestRegressor(random_state=42))\n",
    "rf.fit(features_train, labels_train)\n",
    "print(rf.score(features_train, labels_train))\n",
    "print(rf.score(features_validation,labels_validation))"
   ]
  },
  {
   "cell_type": "code",
   "execution_count": 39,
   "metadata": {
    "colab": {
     "base_uri": "https://localhost:8080/"
    },
    "id": "ur-07w3yIvyi",
    "outputId": "a76f8410-0207-4446-a1d4-b4c8733c379c"
   },
   "outputs": [
    {
     "name": "stdout",
     "output_type": "stream",
     "text": [
      "0.9669897656046209\n",
      "0.7969306521522895\n"
     ]
    }
   ],
   "source": [
    "GB =MultiOutputRegressor( GradientBoostingRegressor(random_state=42))\n",
    "GB.fit(features_train, labels_train)\n",
    "print(GB.score(features_train, labels_train))\n",
    "print(GB.score(features_validation,labels_validation))"
   ]
  },
  {
   "cell_type": "code",
   "execution_count": 40,
   "metadata": {},
   "outputs": [
    {
     "name": "stdout",
     "output_type": "stream",
     "text": [
      "0.4503199270937719\n",
      "0.8376764188375024\n"
     ]
    }
   ],
   "source": [
    "svr=MultiOutputRegressor(SVR())\n",
    "svr.fit(features_train, labels_train)\n",
    "print(svr.score(features_train, labels_train))\n",
    "print(svr.score(features_validation,labels_validation))"
   ]
  },
  {
   "cell_type": "code",
   "execution_count": 41,
   "metadata": {},
   "outputs": [
    {
     "name": "stdout",
     "output_type": "stream",
     "text": [
      "0.9983773281369345\n",
      "0.7737591564285666\n"
     ]
    }
   ],
   "source": [
    "xg_r=MultiOutputRegressor(xg.XGBRegressor())\n",
    "xg_r.fit(features_train, labels_train)\n",
    "print(xg_r.score(features_train, labels_train))\n",
    "print(xg_r.score(features_validation,labels_validation))"
   ]
  },
  {
   "cell_type": "code",
   "execution_count": 51,
   "metadata": {},
   "outputs": [
    {
     "name": "stdout",
     "output_type": "stream",
     "text": [
      "0.7737591564285666\n"
     ]
    }
   ],
   "source": [
    "import pickle\n",
    "filename = 'XGBRegressor.sav'\n",
    "pickle.dump(xg_r, open(filename, 'wb'))\n",
    " \n",
    "# load the model \n",
    "loaded_model = pickle.load(open(filename, 'rb'))\n",
    "result = loaded_model.score(features_validation, labels_validation)\n",
    "print(result)"
   ]
  },
  {
   "cell_type": "markdown",
   "metadata": {},
   "source": [
    "## Grid search Exploration"
   ]
  },
  {
   "cell_type": "markdown",
   "metadata": {},
   "source": [
    "yaw"
   ]
  },
  {
   "cell_type": "code",
   "execution_count": 43,
   "metadata": {
    "colab": {
     "base_uri": "https://localhost:8080/"
    },
    "id": "zqUWx3I27jBJ",
    "outputId": "b774435c-4dda-4e72-adff-b353ce7de2de"
   },
   "outputs": [
    {
     "data": {
      "text/plain": [
       "0.9430345825752666"
      ]
     },
     "execution_count": 43,
     "metadata": {},
     "output_type": "execute_result"
    }
   ],
   "source": [
    "estimator = RandomForestRegressor()\n",
    "param_grid = { \"n_estimators\": [50,100,500], \"max_features\": [\"auto\", \"sqrt\", \"log2\"], \"min_samples_split\" : [2,4,8] }\n",
    "grid = GridSearchCV(estimator, param_grid, n_jobs=-1, cv=5)\n",
    "grid.fit(features_train, labels_train[\"yaw\"])\n",
    "grid.score(features_validation,labels_validation[\"yaw\"])"
   ]
  },
  {
   "cell_type": "code",
   "execution_count": 44,
   "metadata": {},
   "outputs": [
    {
     "data": {
      "text/plain": [
       "RandomForestRegressor(max_features='sqrt')"
      ]
     },
     "execution_count": 44,
     "metadata": {},
     "output_type": "execute_result"
    }
   ],
   "source": [
    "grid.best_estimator_"
   ]
  },
  {
   "cell_type": "code",
   "execution_count": 45,
   "metadata": {},
   "outputs": [
    {
     "name": "stdout",
     "output_type": "stream",
     "text": [
      "Best Params:  {'max_features': 'sqrt', 'min_samples_split': 2, 'n_estimators': 100}\n"
     ]
    }
   ],
   "source": [
    "print('Best Params: ', grid.best_params_)"
   ]
  },
  {
   "cell_type": "markdown",
   "metadata": {},
   "source": [
    "roll"
   ]
  },
  {
   "cell_type": "code",
   "execution_count": 46,
   "metadata": {},
   "outputs": [],
   "source": [
    "#xg\n",
    "n_estimators = [100, 500, 1500]\n",
    "max_depth = [2 ,5, 15]\n",
    "booster=['gbtree','gblinear']\n",
    "learning_rate=[0.05,0.1,0.20]\n",
    "\n",
    "# Define the grid of hyperparameters to search\n",
    "hyperparameter_grid = {\n",
    "    'n_estimators': n_estimators,\n",
    "    'max_depth':max_depth,\n",
    "    'learning_rate':learning_rate,\n",
    "    'booster':booster\n",
    "    }\n",
    "\n",
    "# Set up the random search with 4-fold cross validation\n",
    "grid_roll= GridSearchCV(estimator=xg.XGBRegressor(),\n",
    "            param_grid=hyperparameter_grid,\n",
    "            n_jobs = -1\n",
    "            )"
   ]
  },
  {
   "cell_type": "code",
   "execution_count": 47,
   "metadata": {},
   "outputs": [
    {
     "name": "stdout",
     "output_type": "stream",
     "text": [
      "[15:34:06] WARNING: C:/Users/Administrator/workspace/xgboost-win64_release_1.6.0/src/learner.cc:627: \n",
      "Parameters: { \"max_depth\" } might not be used.\n",
      "\n",
      "  This could be a false alarm, with some parameters getting used by language bindings but\n",
      "  then being mistakenly passed down to XGBoost core, or some parameter actually being used\n",
      "  but getting flagged wrongly here. Please open an issue if you find any such cases.\n",
      "\n",
      "\n",
      "0.27796338009700317\n",
      "0.6800065012775611\n"
     ]
    }
   ],
   "source": [
    "grid_roll.fit(features_train, labels_train[\"roll\"])\n",
    "print(grid_roll.score(features_train,labels_train[\"roll\"]))\n",
    "print(grid_roll.score(features_validation,labels_validation[\"roll\"]))"
   ]
  },
  {
   "cell_type": "code",
   "execution_count": null,
   "metadata": {},
   "outputs": [],
   "source": [
    "print('Best Params: ', grid_roll.best_params_)"
   ]
  },
  {
   "cell_type": "markdown",
   "metadata": {},
   "source": [
    "pitch"
   ]
  },
  {
   "cell_type": "code",
   "execution_count": 48,
   "metadata": {},
   "outputs": [
    {
     "name": "stdout",
     "output_type": "stream",
     "text": [
      "Best Score:  0.528952243243465\n",
      "Best Score:  0.5692164908403248\n"
     ]
    }
   ],
   "source": [
    "#gb\n",
    "model = GradientBoostingRegressor()\n",
    "grid = dict()\n",
    "grid['n_estimators'] = [10, 50, 100, 500]\n",
    "grid['learning_rate'] = [0.0001, 0.001, 0.01, 0.1, 1.0]\n",
    "grid['subsample'] = [0.5, 0.7, 1.0]\n",
    "grid['max_depth'] = [3, 7, 9]\n",
    "# define the grid search procedure\n",
    "grid_pitch = GridSearchCV(estimator=model, param_grid=grid, n_jobs=-1)\n",
    "# execute the grid search\n",
    "grid_pitch.fit(features_train, labels_train[\"pitch\"])\n",
    "print('Best Score: ', grid_pitch.score(features_train,labels_train[\"pitch\"]))\n",
    "print('Best Score: ', grid_pitch.score(features_validation,labels_validation[\"pitch\"]))"
   ]
  },
  {
   "cell_type": "code",
   "execution_count": 49,
   "metadata": {},
   "outputs": [
    {
     "name": "stdout",
     "output_type": "stream",
     "text": [
      "Best Params:  {'learning_rate': 0.01, 'max_depth': 9, 'n_estimators': 100, 'subsample': 0.5}\n"
     ]
    }
   ],
   "source": [
    "print('Best Params: ', grid_pitch.best_params_)"
   ]
  },
  {
   "cell_type": "code",
   "execution_count": null,
   "metadata": {},
   "outputs": [],
   "source": []
  }
 ],
 "metadata": {
  "accelerator": "GPU",
  "colab": {
   "name": "modeling Exploration.ipynb",
   "provenance": []
  },
  "gpuClass": "standard",
  "kernelspec": {
   "display_name": "Python 3 (ipykernel)",
   "language": "python",
   "name": "python3"
  },
  "language_info": {
   "codemirror_mode": {
    "name": "ipython",
    "version": 3
   },
   "file_extension": ".py",
   "mimetype": "text/x-python",
   "name": "python",
   "nbconvert_exporter": "python",
   "pygments_lexer": "ipython3",
   "version": "3.9.7"
  }
 },
 "nbformat": 4,
 "nbformat_minor": 1
}
